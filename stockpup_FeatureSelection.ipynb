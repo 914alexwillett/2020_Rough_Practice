{
 "cells": [
  {
   "cell_type": "code",
   "execution_count": 1,
   "metadata": {},
   "outputs": [],
   "source": [
    "import pandas as pd\n",
    "import numpy as np\n",
    "import tqdm # For getting progress information while the cell is running\n",
    "# from tqdm import tqdm_notebook as tqdm\n",
    "import seaborn as sns\n",
    "import _pickle as pickle\n",
    "import dtale\n",
    "import matplotlib.pyplot as plt\n",
    "%matplotlib inline"
   ]
  },
  {
   "cell_type": "code",
   "execution_count": 2,
   "metadata": {},
   "outputs": [],
   "source": [
    "pd.set_option('display.max_rows', 200)\n",
    "pd.set_option('display.max_columns', 70)\n",
    "\n",
    "with open(\"stock_pickle_full.pickle\", 'rb') as fp:\n",
    "    stocks_df = pickle.load(fp)"
   ]
  },
  {
   "cell_type": "code",
   "execution_count": 3,
   "metadata": {},
   "outputs": [],
   "source": [
    "def setting_index(df):\n",
    "    \"\"\"\n",
    "    Returns a sorted datetime index\n",
    "    \"\"\"\n",
    "    df['Quarter end'] = pd.to_datetime(df['Quarter end'])\n",
    "    df.set_index(\"Quarter end\", inplace=True)\n",
    "    return df.sort_index(ascending=True)\n",
    "  \n",
    "def class_creation(df, thres=3):\n",
    "    \"\"\"\n",
    "    Creates classes of:\n",
    "    - buy(1)\n",
    "    - hold(2)\n",
    "    - sell(0)\n",
    "    \n",
    "    Threshold can be changed to fit whatever price percentage change is desired\n",
    "    \"\"\"\n",
    "    if df['Price high'] >= thres and df['Price low'] >= thres:\n",
    "        # Buys\n",
    "        return 1\n",
    "    \n",
    "    elif df['Price high'] <= -thres and df['Price low'] <= -thres:\n",
    "        # Sells\n",
    "        return 0\n",
    "    \n",
    "    else:\n",
    "        # Holds\n",
    "        return 2"
   ]
  },
  {
   "cell_type": "code",
   "execution_count": 4,
   "metadata": {},
   "outputs": [
    {
     "data": {
      "text/plain": [
       "'\\n# Setting the index as the Date\\nfor i in tqdm(stocks_df.keys()):\\n    stocks_df[i] = setting_index(stocks_df[i])\\n    \\n# Replacing all \"None\" values with NaN\\nfor i in tqdm(stocks_df.keys()):\\n    stocks_df[i].replace(\"None\", 0, inplace=True)\\n    \\n# Creating a new dictionary that contains the numerical values, then converting all values to numeric values\\nnum_df = {}\\nfor i in tqdm(stocks_df.keys()):\\n    num_df[i] = stocks_df[i].apply(pd.to_numeric)\\n    \\n# Replacing values with percent difference or change\\npcnt_df = {}\\nfor i in tqdm(num_df.keys()):\\n    pcnt_df[i] = num_df[i].pct_change(periods=1).apply(lambda x: x*100)\\n    \\n# Replacing infinite values with NaN\\nfor i in tqdm(pcnt_df.keys()):\\n    pcnt_df[i] = pcnt_df[i].replace([np.inf, -np.inf], np.nan)\\n    \\n# Creating a new DataFrame that contains the class \\'Decision\\' determining if a quarterly reports improvement is a buy, hold, or sell.\\nnew_df = {}\\nfor i in tqdm(pcnt_df.keys()):\\n    # Assigning the new DF\\n    new_df[i] = pcnt_df[i]\\n    \\n    # Creating the new column with the classes, shifted by -1 in order to know if the prices will increase/decrease in the next quarter.\\n    new_df[i][\\'Decision\\'] = new_df[i].apply(class_creation, axis=1).shift(-1)\\n    \\n# Excluding the first and last rows\\nfor i in tqdm(new_df.keys()):\\n    new_df[i] = new_df[i][1:-1]\\n    \\n# Combining all stock DFs into one\\nbig_df = pd.DataFrame()\\nfor i in tqdm(pcnt_df.keys()):\\n    big_df = big_df.append(new_df[i], sort=False)\\n    \\n# Filling the NaNs with 0\\nbig_df.fillna(0, inplace=True)\\n\\n# Resetting the index because we no longer need the dates\\nbig_df.reset_index(drop=True, inplace=True)\\n\\n# Dropping the price related columns to prevent data leakage\\nbig_df.drop([\\'Price\\', \\'Price high\\', \\'Price low\\'], 1, inplace=True)\\n\\n# Exporting the final DataFrame\\nwith open(\"main_df.pkl\", \\'wb\\') as fp:\\n    pickle.dump(big_df, fp)\\n    \\n'"
      ]
     },
     "execution_count": 4,
     "metadata": {},
     "output_type": "execute_result"
    }
   ],
   "source": [
    "\"\"\"\n",
    "# Setting the index as the Date\n",
    "for i in tqdm(stocks_df.keys()):\n",
    "    stocks_df[i] = setting_index(stocks_df[i])\n",
    "    \n",
    "# Replacing all \"None\" values with NaN\n",
    "for i in tqdm(stocks_df.keys()):\n",
    "    stocks_df[i].replace(\"None\", 0, inplace=True)\n",
    "    \n",
    "# Creating a new dictionary that contains the numerical values, then converting all values to numeric values\n",
    "num_df = {}\n",
    "for i in tqdm(stocks_df.keys()):\n",
    "    num_df[i] = stocks_df[i].apply(pd.to_numeric)\n",
    "    \n",
    "# Replacing values with percent difference or change\n",
    "pcnt_df = {}\n",
    "for i in tqdm(num_df.keys()):\n",
    "    pcnt_df[i] = num_df[i].pct_change(periods=1).apply(lambda x: x*100)\n",
    "    \n",
    "# Replacing infinite values with NaN\n",
    "for i in tqdm(pcnt_df.keys()):\n",
    "    pcnt_df[i] = pcnt_df[i].replace([np.inf, -np.inf], np.nan)\n",
    "    \n",
    "# Creating a new DataFrame that contains the class 'Decision' determining if a quarterly reports improvement is a buy, hold, or sell.\n",
    "new_df = {}\n",
    "for i in tqdm(pcnt_df.keys()):\n",
    "    # Assigning the new DF\n",
    "    new_df[i] = pcnt_df[i]\n",
    "    \n",
    "    # Creating the new column with the classes, shifted by -1 in order to know if the prices will increase/decrease in the next quarter.\n",
    "    new_df[i]['Decision'] = new_df[i].apply(class_creation, axis=1).shift(-1)\n",
    "    \n",
    "# Excluding the first and last rows\n",
    "for i in tqdm(new_df.keys()):\n",
    "    new_df[i] = new_df[i][1:-1]\n",
    "    \n",
    "# Combining all stock DFs into one\n",
    "big_df = pd.DataFrame()\n",
    "for i in tqdm(pcnt_df.keys()):\n",
    "    big_df = big_df.append(new_df[i], sort=False)\n",
    "    \n",
    "# Filling the NaNs with 0\n",
    "big_df.fillna(0, inplace=True)\n",
    "\n",
    "# Resetting the index because we no longer need the dates\n",
    "big_df.reset_index(drop=True, inplace=True)\n",
    "\n",
    "# Dropping the price related columns to prevent data leakage\n",
    "big_df.drop(['Price', 'Price high', 'Price low'], 1, inplace=True)\n",
    "\n",
    "# Exporting the final DataFrame\n",
    "with open(\"main_df.pkl\", 'wb') as fp:\n",
    "    pickle.dump(big_df, fp)\n",
    "    \n",
    "\"\"\""
   ]
  },
  {
   "cell_type": "markdown",
   "metadata": {},
   "source": [
    "Examining the Data"
   ]
  },
  {
   "cell_type": "code",
   "execution_count": 25,
   "metadata": {},
   "outputs": [],
   "source": [
    "with open(\"main_df.pkl\", 'rb') as fp:\n",
    "    final_df = pickle.load(fp)"
   ]
  },
  {
   "cell_type": "code",
   "execution_count": 6,
   "metadata": {},
   "outputs": [
    {
     "data": {
      "image/png": "[encoded data removed]",
      "text/plain": [
       "<Figure size 720x432 with 1 Axes>"
      ]
     },
     "metadata": {
      "needs_background": "light"
     },
     "output_type": "display_data"
    }
   ],
   "source": [
    "# Seperating each class into respective DataFrames\n",
    "buy_df = final_df[final_df['Decision']==1].loc[:, final_df.columns != 'Decision'].reset_index(drop=True)\n",
    "hold_df = final_df[final_df['Decision']==2].loc[:, final_df.columns != 'Decision'].reset_index(drop=True)\n",
    "sell_df = final_df[final_df['Decision']==0].loc[:, final_df.columns != 'Decision'].reset_index(drop=True)\n",
    "\n",
    "# Visualizing in matplotlib\n",
    "plt.figure(figsize=(10,6))\n",
    "plt.style.use('fivethirtyeight')\n",
    "\n",
    "# Plotting the count of each DataFrame of each class\n",
    "plt.bar(\"Buy\", buy_df.shape[0])\n",
    "plt.bar(\"Sell\", sell_df.shape[0])\n",
    "plt.bar(\"Hold\", hold_df.shape[0])\n",
    "\n",
    "plt.ylabel('# of Quarterly Reports')\n",
    "plt.title('Count of Quarterly Reports')\n",
    "plt.show()"
   ]
  },
  {
   "cell_type": "markdown",
   "metadata": {},
   "source": [
    "Feature Engineering and Selection"
   ]
  },
  {
   "cell_type": "code",
   "execution_count": 8,
   "metadata": {},
   "outputs": [
    {
     "name": "stdout",
     "output_type": "stream",
     "text": [
      "37 features to choose from\n"
     ]
    }
   ],
   "source": [
    "# Setting the correspoinding variables for the classifier\n",
    "X = final_df.drop(['Decision'], 1)\n",
    "y = final_df.Decision\n",
    "\n",
    "# maximum number of features we need to select\n",
    "num_feats = 15\n",
    "feature_name = list(X.columns)\n",
    "\n",
    "# how many features to choose from before selection\n",
    "print(str(len(feature_name)), 'features to choose from')"
   ]
  },
  {
   "cell_type": "markdown",
   "metadata": {},
   "source": [
    "1. Pearson Correlation"
   ]
  },
  {
   "cell_type": "code",
   "execution_count": 8,
   "metadata": {},
   "outputs": [
    {
     "name": "stdout",
     "output_type": "stream",
     "text": [
      "15 selected features\n"
     ]
    }
   ],
   "source": [
    "def cor_selector(X, y,num_feats):\n",
    "    cor_list = []\n",
    "    feature_name = X.columns.tolist()\n",
    "    # calculate the correlation with y for each feature\n",
    "    for i in X.columns.tolist():\n",
    "        cor = np.corrcoef(X[i], y)[0, 1]\n",
    "        cor_list.append(cor)\n",
    "    # replace NaN with 0\n",
    "    cor_list = [0 if np.isnan(i) else i for i in cor_list]\n",
    "    # feature name\n",
    "    cor_feature = X.iloc[:,np.argsort(np.abs(cor_list))[-num_feats:]].columns.tolist()\n",
    "    # feature selection? 0 for not select, 1 for select\n",
    "    cor_support = [True if i in cor_feature else False for i in feature_name]\n",
    "    return cor_support, cor_feature\n",
    "cor_support, cor_feature = cor_selector(X, y,num_feats)\n",
    "print(str(len(cor_feature)), 'selected features')"
   ]
  },
  {
   "cell_type": "code",
   "execution_count": 9,
   "metadata": {},
   "outputs": [
    {
     "data": {
      "text/plain": [
       "['P/B ratio',\n",
       " 'Current ratio',\n",
       " 'Shares',\n",
       " 'EPS diluted',\n",
       " 'EPS basic',\n",
       " 'Split factor',\n",
       " 'ROA',\n",
       " 'Goodwill & intangibles',\n",
       " 'P/E ratio',\n",
       " 'Shares split adjusted',\n",
       " 'Cumulative dividends per share',\n",
       " 'Earnings available for common stockholders',\n",
       " 'Long-term debt',\n",
       " 'Assets',\n",
       " 'Dividend payout ratio']"
      ]
     },
     "execution_count": 9,
     "metadata": {},
     "output_type": "execute_result"
    }
   ],
   "source": [
    "cor_feature"
   ]
  },
  {
   "cell_type": "markdown",
   "metadata": {},
   "source": [
    "2. Chi-Square Features"
   ]
  },
  {
   "cell_type": "code",
   "execution_count": 10,
   "metadata": {},
   "outputs": [
    {
     "name": "stdout",
     "output_type": "stream",
     "text": [
      "15 selected features\n"
     ]
    }
   ],
   "source": [
    "from sklearn.feature_selection import SelectKBest\n",
    "from sklearn.feature_selection import chi2\n",
    "from sklearn.preprocessing import MinMaxScaler\n",
    "\n",
    "# Normalizing? ( - mean / std?)\n",
    "X_norm = MinMaxScaler().fit_transform(X)\n",
    "chi_selector = SelectKBest(chi2, k=num_feats)\n",
    "chi_selector.fit(X_norm, y)\n",
    "chi_support = chi_selector.get_support()\n",
    "chi_feature = X.loc[:, chi_support].columns.tolist()\n",
    "print(str(len(chi_feature)), 'selected features')"
   ]
  },
  {
   "cell_type": "code",
   "execution_count": 11,
   "metadata": {},
   "outputs": [
    {
     "data": {
      "text/plain": [
       "['Shares',\n",
       " 'Current Assets',\n",
       " 'Current Liabilities',\n",
       " 'Preferred equity',\n",
       " 'Goodwill & intangibles',\n",
       " 'Long-term debt',\n",
       " 'Revenue',\n",
       " 'Dividend per share',\n",
       " 'Cash at end of period',\n",
       " 'P/B ratio',\n",
       " 'P/E ratio',\n",
       " 'Dividend payout ratio',\n",
       " 'Long-term debt to equity ratio',\n",
       " 'Net margin',\n",
       " 'Current ratio']"
      ]
     },
     "execution_count": 11,
     "metadata": {},
     "output_type": "execute_result"
    }
   ],
   "source": [
    "chi_feature"
   ]
  },
  {
   "cell_type": "markdown",
   "metadata": {},
   "source": [
    "3. Recursive Feature Elimination"
   ]
  },
  {
   "cell_type": "code",
   "execution_count": 12,
   "metadata": {},
   "outputs": [
    {
     "name": "stdout",
     "output_type": "stream",
     "text": [
      "Fitting estimator with 37 features.\n",
      "Fitting estimator with 27 features.\n",
      "Fitting estimator with 17 features.\n"
     ]
    },
    {
     "data": {
      "text/plain": [
       "RFE(estimator=LogisticRegression(C=1.0, class_weight=None, dual=False,\n",
       "                                 fit_intercept=True, intercept_scaling=1,\n",
       "                                 l1_ratio=None, max_iter=100,\n",
       "                                 multi_class='auto', n_jobs=None, penalty='l2',\n",
       "                                 random_state=None, solver='lbfgs', tol=0.0001,\n",
       "                                 verbose=0, warm_start=False),\n",
       "    n_features_to_select=15, step=10, verbose=5)"
      ]
     },
     "execution_count": 12,
     "metadata": {},
     "output_type": "execute_result"
    }
   ],
   "source": [
    "from sklearn.feature_selection import RFE\n",
    "from sklearn.linear_model import LogisticRegression\n",
    "rfe_selector = RFE(estimator=LogisticRegression(), n_features_to_select=num_feats, step=10, verbose=5)\n",
    "rfe_selector.fit(X_norm, y)"
   ]
  },
  {
   "cell_type": "code",
   "execution_count": 13,
   "metadata": {},
   "outputs": [
    {
     "name": "stdout",
     "output_type": "stream",
     "text": [
      "15 selected features\n"
     ]
    }
   ],
   "source": [
    "rfe_support = rfe_selector.get_support()\n",
    "rfe_feature = X.loc[:,rfe_support].columns.tolist()\n",
    "print(str(len(rfe_feature)), 'selected features')"
   ]
  },
  {
   "cell_type": "code",
   "execution_count": 14,
   "metadata": {},
   "outputs": [
    {
     "data": {
      "text/plain": [
       "['Shares',\n",
       " 'Shares split adjusted',\n",
       " 'Split factor',\n",
       " 'Assets',\n",
       " 'Current Liabilities',\n",
       " 'Non-controlling interest',\n",
       " 'Long-term debt',\n",
       " 'Earnings',\n",
       " 'Dividend per share',\n",
       " 'ROA',\n",
       " 'P/B ratio',\n",
       " 'Cumulative dividends per share',\n",
       " 'Dividend payout ratio',\n",
       " 'Equity to assets ratio',\n",
       " 'Net margin']"
      ]
     },
     "execution_count": 14,
     "metadata": {},
     "output_type": "execute_result"
    }
   ],
   "source": [
    "rfe_feature"
   ]
  },
  {
   "cell_type": "markdown",
   "metadata": {},
   "source": [
    "4. SelectFromModel Logistic Regression"
   ]
  },
  {
   "cell_type": "code",
   "execution_count": 15,
   "metadata": {},
   "outputs": [
    {
     "data": {
      "text/plain": [
       "SelectFromModel(estimator=LogisticRegression(C=1.0, class_weight=None,\n",
       "                                             dual=False, fit_intercept=True,\n",
       "                                             intercept_scaling=1, l1_ratio=None,\n",
       "                                             max_iter=100, multi_class='auto',\n",
       "                                             n_jobs=None, penalty='l2',\n",
       "                                             random_state=None, solver='lbfgs',\n",
       "                                             tol=0.0001, verbose=0,\n",
       "                                             warm_start=False),\n",
       "                max_features=15, norm_order=1, prefit=False, threshold=None)"
      ]
     },
     "execution_count": 15,
     "metadata": {},
     "output_type": "execute_result"
    }
   ],
   "source": [
    "from sklearn.feature_selection import SelectFromModel\n",
    "from sklearn.linear_model import LogisticRegression\n",
    "\n",
    "embeded_lr_selector = SelectFromModel(LogisticRegression(penalty=\"l2\"), max_features=num_feats)\n",
    "embeded_lr_selector.fit(X_norm, y)"
   ]
  },
  {
   "cell_type": "code",
   "execution_count": 16,
   "metadata": {},
   "outputs": [
    {
     "name": "stdout",
     "output_type": "stream",
     "text": [
      "12 selected features\n"
     ]
    }
   ],
   "source": [
    "embeded_lr_support = embeded_lr_selector.get_support()\n",
    "embeded_lr_feature = X.loc[:,embeded_lr_support].columns.tolist()\n",
    "print(str(len(embeded_lr_feature)), 'selected features')"
   ]
  },
  {
   "cell_type": "code",
   "execution_count": 17,
   "metadata": {},
   "outputs": [
    {
     "data": {
      "text/plain": [
       "['Shares',\n",
       " 'Split factor',\n",
       " 'Assets',\n",
       " 'Current Liabilities',\n",
       " 'Non-controlling interest',\n",
       " 'Long-term debt',\n",
       " 'Dividend per share',\n",
       " 'ROA',\n",
       " 'P/B ratio',\n",
       " 'Cumulative dividends per share',\n",
       " 'Dividend payout ratio',\n",
       " 'Equity to assets ratio']"
      ]
     },
     "execution_count": 17,
     "metadata": {},
     "output_type": "execute_result"
    }
   ],
   "source": [
    "embeded_lr_feature"
   ]
  },
  {
   "cell_type": "markdown",
   "metadata": {},
   "source": [
    "5. Tree_based: SelectFromModel"
   ]
  },
  {
   "cell_type": "code",
   "execution_count": 18,
   "metadata": {},
   "outputs": [],
   "source": [
    "from sklearn.feature_selection import SelectFromModel\n",
    "from sklearn.ensemble import RandomForestClassifier"
   ]
  },
  {
   "cell_type": "code",
   "execution_count": 19,
   "metadata": {},
   "outputs": [
    {
     "data": {
      "text/plain": [
       "SelectFromModel(estimator=RandomForestClassifier(bootstrap=True, ccp_alpha=0.0,\n",
       "                                                 class_weight=None,\n",
       "                                                 criterion='gini',\n",
       "                                                 max_depth=None,\n",
       "                                                 max_features='auto',\n",
       "                                                 max_leaf_nodes=None,\n",
       "                                                 max_samples=None,\n",
       "                                                 min_impurity_decrease=0.0,\n",
       "                                                 min_impurity_split=None,\n",
       "                                                 min_samples_leaf=1,\n",
       "                                                 min_samples_split=2,\n",
       "                                                 min_weight_fraction_leaf=0.0,\n",
       "                                                 n_estimators=100, n_jobs=None,\n",
       "                                                 oob_score=False,\n",
       "                                                 random_state=None, verbose=0,\n",
       "                                                 warm_start=False),\n",
       "                max_features=15, norm_order=1, prefit=False, threshold=None)"
      ]
     },
     "execution_count": 19,
     "metadata": {},
     "output_type": "execute_result"
    }
   ],
   "source": [
    "embeded_rf_selector = SelectFromModel(RandomForestClassifier(n_estimators=100), max_features=num_feats)\n",
    "embeded_rf_selector.fit(X, y)"
   ]
  },
  {
   "cell_type": "code",
   "execution_count": 20,
   "metadata": {},
   "outputs": [
    {
     "name": "stdout",
     "output_type": "stream",
     "text": [
      "15 selected features\n"
     ]
    }
   ],
   "source": [
    "embeded_rf_support = embeded_rf_selector.get_support()\n",
    "embeded_rf_feature = X.loc[:,embeded_rf_support].columns.tolist()\n",
    "print(str(len(embeded_rf_feature)), 'selected features')"
   ]
  },
  {
   "cell_type": "code",
   "execution_count": 21,
   "metadata": {},
   "outputs": [
    {
     "data": {
      "text/plain": [
       "['Shares',\n",
       " 'Shares split adjusted',\n",
       " 'Assets',\n",
       " 'Shareholders equity',\n",
       " 'Revenue',\n",
       " 'Cash from operating activities',\n",
       " 'Cash from investing activities',\n",
       " 'Cash from financing activities',\n",
       " 'Cash change during period',\n",
       " 'Cash at end of period',\n",
       " 'Capital expenditures',\n",
       " 'Book value of equity per share',\n",
       " 'P/B ratio',\n",
       " 'P/E ratio',\n",
       " 'Free cash flow per share']"
      ]
     },
     "execution_count": 21,
     "metadata": {},
     "output_type": "execute_result"
    }
   ],
   "source": [
    "embeded_rf_feature"
   ]
  },
  {
   "cell_type": "raw",
   "metadata": {},
   "source": [
    "6. LGBM Classifier"
   ]
  },
  {
   "cell_type": "code",
   "execution_count": 22,
   "metadata": {},
   "outputs": [],
   "source": [
    "from sklearn.feature_selection import SelectFromModel\n",
    "from lightgbm import LGBMClassifier"
   ]
  },
  {
   "cell_type": "code",
   "execution_count": 23,
   "metadata": {},
   "outputs": [
    {
     "data": {
      "text/plain": [
       "SelectFromModel(estimator=LGBMClassifier(boosting_type='gbdt',\n",
       "                                         class_weight=None,\n",
       "                                         colsample_bytree=0.2,\n",
       "                                         importance_type='split',\n",
       "                                         learning_rate=0.05, max_depth=-1,\n",
       "                                         min_child_samples=20,\n",
       "                                         min_child_weight=40,\n",
       "                                         min_split_gain=0.01, n_estimators=500,\n",
       "                                         n_jobs=-1, num_leaves=32,\n",
       "                                         objective=None, random_state=None,\n",
       "                                         reg_alpha=3, reg_lambda=1, silent=True,\n",
       "                                         subsample=1.0,\n",
       "                                         subsample_for_bin=200000,\n",
       "                                         subsample_freq=0),\n",
       "                max_features=15, norm_order=1, prefit=False, threshold=None)"
      ]
     },
     "execution_count": 23,
     "metadata": {},
     "output_type": "execute_result"
    }
   ],
   "source": [
    "lgbc=LGBMClassifier(n_estimators=500, learning_rate=0.05, num_leaves=32, colsample_bytree=0.2,\n",
    "                   reg_alpha=3, reg_lambda=1, min_split_gain=0.01, min_child_weight=40)\n",
    "\n",
    "embeded_lgb_selector = SelectFromModel(lgbc, max_features=num_feats)\n",
    "embeded_lgb_selector.fit(X, y)"
   ]
  },
  {
   "cell_type": "code",
   "execution_count": 24,
   "metadata": {},
   "outputs": [
    {
     "name": "stdout",
     "output_type": "stream",
     "text": [
      "15 selected features\n"
     ]
    }
   ],
   "source": [
    "embeded_lgb_support = embeded_lgb_selector.get_support()\n",
    "embeded_lgb_feature = X.loc[:,embeded_lgb_support].columns.tolist()\n",
    "print(str(len(embeded_lgb_feature)), 'selected features')"
   ]
  },
  {
   "cell_type": "code",
   "execution_count": 25,
   "metadata": {},
   "outputs": [
    {
     "data": {
      "text/plain": [
       "['Shares',\n",
       " 'Shares split adjusted',\n",
       " 'Assets',\n",
       " 'Shareholders equity',\n",
       " 'Revenue',\n",
       " 'Cash from operating activities',\n",
       " 'Cash change during period',\n",
       " 'Cash at end of period',\n",
       " 'Capital expenditures',\n",
       " 'ROE',\n",
       " 'Book value of equity per share',\n",
       " 'P/B ratio',\n",
       " 'P/E ratio',\n",
       " 'Cumulative dividends per share',\n",
       " 'Equity to assets ratio']"
      ]
     },
     "execution_count": 25,
     "metadata": {},
     "output_type": "execute_result"
    }
   ],
   "source": [
    "embeded_lgb_feature"
   ]
  },
  {
   "cell_type": "markdown",
   "metadata": {},
   "source": [
    "Results"
   ]
  },
  {
   "cell_type": "code",
   "execution_count": 26,
   "metadata": {},
   "outputs": [
    {
     "data": {
      "text/html": [
       "<div>\n",
       "<style scoped>\n",
       "    .dataframe tbody tr th:only-of-type {\n",
       "        vertical-align: middle;\n",
       "    }\n",
       "\n",
       "    .dataframe tbody tr th {\n",
       "        vertical-align: top;\n",
       "    }\n",
       "\n",
       "    .dataframe thead th {\n",
       "        text-align: right;\n",
       "    }\n",
       "</style>\n",
       "<table border=\"1\" class=\"dataframe\">\n",
       "  <thead>\n",
       "    <tr style=\"text-align: right;\">\n",
       "      <th></th>\n",
       "      <th>Feature</th>\n",
       "      <th>Pearson</th>\n",
       "      <th>Chi-2</th>\n",
       "      <th>RFE</th>\n",
       "      <th>Logistics</th>\n",
       "      <th>Random Forest</th>\n",
       "      <th>LightGBM</th>\n",
       "      <th>Total</th>\n",
       "    </tr>\n",
       "  </thead>\n",
       "  <tbody>\n",
       "    <tr>\n",
       "      <th>1</th>\n",
       "      <td>Shares</td>\n",
       "      <td>True</td>\n",
       "      <td>True</td>\n",
       "      <td>True</td>\n",
       "      <td>True</td>\n",
       "      <td>True</td>\n",
       "      <td>True</td>\n",
       "      <td>6</td>\n",
       "    </tr>\n",
       "    <tr>\n",
       "      <th>2</th>\n",
       "      <td>P/B ratio</td>\n",
       "      <td>True</td>\n",
       "      <td>True</td>\n",
       "      <td>True</td>\n",
       "      <td>True</td>\n",
       "      <td>True</td>\n",
       "      <td>True</td>\n",
       "      <td>6</td>\n",
       "    </tr>\n",
       "    <tr>\n",
       "      <th>3</th>\n",
       "      <td>Assets</td>\n",
       "      <td>True</td>\n",
       "      <td>False</td>\n",
       "      <td>True</td>\n",
       "      <td>True</td>\n",
       "      <td>True</td>\n",
       "      <td>True</td>\n",
       "      <td>5</td>\n",
       "    </tr>\n",
       "    <tr>\n",
       "      <th>4</th>\n",
       "      <td>Shares split adjusted</td>\n",
       "      <td>True</td>\n",
       "      <td>False</td>\n",
       "      <td>True</td>\n",
       "      <td>False</td>\n",
       "      <td>True</td>\n",
       "      <td>True</td>\n",
       "      <td>4</td>\n",
       "    </tr>\n",
       "    <tr>\n",
       "      <th>5</th>\n",
       "      <td>P/E ratio</td>\n",
       "      <td>True</td>\n",
       "      <td>True</td>\n",
       "      <td>False</td>\n",
       "      <td>False</td>\n",
       "      <td>True</td>\n",
       "      <td>True</td>\n",
       "      <td>4</td>\n",
       "    </tr>\n",
       "    <tr>\n",
       "      <th>6</th>\n",
       "      <td>Long-term debt</td>\n",
       "      <td>True</td>\n",
       "      <td>True</td>\n",
       "      <td>True</td>\n",
       "      <td>True</td>\n",
       "      <td>False</td>\n",
       "      <td>False</td>\n",
       "      <td>4</td>\n",
       "    </tr>\n",
       "    <tr>\n",
       "      <th>7</th>\n",
       "      <td>Dividend payout ratio</td>\n",
       "      <td>True</td>\n",
       "      <td>True</td>\n",
       "      <td>True</td>\n",
       "      <td>True</td>\n",
       "      <td>False</td>\n",
       "      <td>False</td>\n",
       "      <td>4</td>\n",
       "    </tr>\n",
       "    <tr>\n",
       "      <th>8</th>\n",
       "      <td>Cumulative dividends per share</td>\n",
       "      <td>True</td>\n",
       "      <td>False</td>\n",
       "      <td>True</td>\n",
       "      <td>True</td>\n",
       "      <td>False</td>\n",
       "      <td>True</td>\n",
       "      <td>4</td>\n",
       "    </tr>\n",
       "    <tr>\n",
       "      <th>9</th>\n",
       "      <td>Split factor</td>\n",
       "      <td>True</td>\n",
       "      <td>False</td>\n",
       "      <td>True</td>\n",
       "      <td>True</td>\n",
       "      <td>False</td>\n",
       "      <td>False</td>\n",
       "      <td>3</td>\n",
       "    </tr>\n",
       "    <tr>\n",
       "      <th>10</th>\n",
       "      <td>Revenue</td>\n",
       "      <td>False</td>\n",
       "      <td>True</td>\n",
       "      <td>False</td>\n",
       "      <td>False</td>\n",
       "      <td>True</td>\n",
       "      <td>True</td>\n",
       "      <td>3</td>\n",
       "    </tr>\n",
       "    <tr>\n",
       "      <th>11</th>\n",
       "      <td>ROA</td>\n",
       "      <td>True</td>\n",
       "      <td>False</td>\n",
       "      <td>True</td>\n",
       "      <td>True</td>\n",
       "      <td>False</td>\n",
       "      <td>False</td>\n",
       "      <td>3</td>\n",
       "    </tr>\n",
       "    <tr>\n",
       "      <th>12</th>\n",
       "      <td>Equity to assets ratio</td>\n",
       "      <td>False</td>\n",
       "      <td>False</td>\n",
       "      <td>True</td>\n",
       "      <td>True</td>\n",
       "      <td>False</td>\n",
       "      <td>True</td>\n",
       "      <td>3</td>\n",
       "    </tr>\n",
       "    <tr>\n",
       "      <th>13</th>\n",
       "      <td>Dividend per share</td>\n",
       "      <td>False</td>\n",
       "      <td>True</td>\n",
       "      <td>True</td>\n",
       "      <td>True</td>\n",
       "      <td>False</td>\n",
       "      <td>False</td>\n",
       "      <td>3</td>\n",
       "    </tr>\n",
       "    <tr>\n",
       "      <th>14</th>\n",
       "      <td>Current Liabilities</td>\n",
       "      <td>False</td>\n",
       "      <td>True</td>\n",
       "      <td>True</td>\n",
       "      <td>True</td>\n",
       "      <td>False</td>\n",
       "      <td>False</td>\n",
       "      <td>3</td>\n",
       "    </tr>\n",
       "    <tr>\n",
       "      <th>15</th>\n",
       "      <td>Cash at end of period</td>\n",
       "      <td>False</td>\n",
       "      <td>True</td>\n",
       "      <td>False</td>\n",
       "      <td>False</td>\n",
       "      <td>True</td>\n",
       "      <td>True</td>\n",
       "      <td>3</td>\n",
       "    </tr>\n",
       "    <tr>\n",
       "      <th>16</th>\n",
       "      <td>Shareholders equity</td>\n",
       "      <td>False</td>\n",
       "      <td>False</td>\n",
       "      <td>False</td>\n",
       "      <td>False</td>\n",
       "      <td>True</td>\n",
       "      <td>True</td>\n",
       "      <td>2</td>\n",
       "    </tr>\n",
       "    <tr>\n",
       "      <th>17</th>\n",
       "      <td>Non-controlling interest</td>\n",
       "      <td>False</td>\n",
       "      <td>False</td>\n",
       "      <td>True</td>\n",
       "      <td>True</td>\n",
       "      <td>False</td>\n",
       "      <td>False</td>\n",
       "      <td>2</td>\n",
       "    </tr>\n",
       "    <tr>\n",
       "      <th>18</th>\n",
       "      <td>Net margin</td>\n",
       "      <td>False</td>\n",
       "      <td>True</td>\n",
       "      <td>True</td>\n",
       "      <td>False</td>\n",
       "      <td>False</td>\n",
       "      <td>False</td>\n",
       "      <td>2</td>\n",
       "    </tr>\n",
       "    <tr>\n",
       "      <th>19</th>\n",
       "      <td>Goodwill &amp; intangibles</td>\n",
       "      <td>True</td>\n",
       "      <td>True</td>\n",
       "      <td>False</td>\n",
       "      <td>False</td>\n",
       "      <td>False</td>\n",
       "      <td>False</td>\n",
       "      <td>2</td>\n",
       "    </tr>\n",
       "    <tr>\n",
       "      <th>20</th>\n",
       "      <td>Current ratio</td>\n",
       "      <td>True</td>\n",
       "      <td>True</td>\n",
       "      <td>False</td>\n",
       "      <td>False</td>\n",
       "      <td>False</td>\n",
       "      <td>False</td>\n",
       "      <td>2</td>\n",
       "    </tr>\n",
       "    <tr>\n",
       "      <th>21</th>\n",
       "      <td>Cash from operating activities</td>\n",
       "      <td>False</td>\n",
       "      <td>False</td>\n",
       "      <td>False</td>\n",
       "      <td>False</td>\n",
       "      <td>True</td>\n",
       "      <td>True</td>\n",
       "      <td>2</td>\n",
       "    </tr>\n",
       "    <tr>\n",
       "      <th>22</th>\n",
       "      <td>Cash change during period</td>\n",
       "      <td>False</td>\n",
       "      <td>False</td>\n",
       "      <td>False</td>\n",
       "      <td>False</td>\n",
       "      <td>True</td>\n",
       "      <td>True</td>\n",
       "      <td>2</td>\n",
       "    </tr>\n",
       "    <tr>\n",
       "      <th>23</th>\n",
       "      <td>Capital expenditures</td>\n",
       "      <td>False</td>\n",
       "      <td>False</td>\n",
       "      <td>False</td>\n",
       "      <td>False</td>\n",
       "      <td>True</td>\n",
       "      <td>True</td>\n",
       "      <td>2</td>\n",
       "    </tr>\n",
       "    <tr>\n",
       "      <th>24</th>\n",
       "      <td>Book value of equity per share</td>\n",
       "      <td>False</td>\n",
       "      <td>False</td>\n",
       "      <td>False</td>\n",
       "      <td>False</td>\n",
       "      <td>True</td>\n",
       "      <td>True</td>\n",
       "      <td>2</td>\n",
       "    </tr>\n",
       "    <tr>\n",
       "      <th>25</th>\n",
       "      <td>ROE</td>\n",
       "      <td>False</td>\n",
       "      <td>False</td>\n",
       "      <td>False</td>\n",
       "      <td>False</td>\n",
       "      <td>False</td>\n",
       "      <td>True</td>\n",
       "      <td>1</td>\n",
       "    </tr>\n",
       "    <tr>\n",
       "      <th>26</th>\n",
       "      <td>Preferred equity</td>\n",
       "      <td>False</td>\n",
       "      <td>True</td>\n",
       "      <td>False</td>\n",
       "      <td>False</td>\n",
       "      <td>False</td>\n",
       "      <td>False</td>\n",
       "      <td>1</td>\n",
       "    </tr>\n",
       "    <tr>\n",
       "      <th>27</th>\n",
       "      <td>Long-term debt to equity ratio</td>\n",
       "      <td>False</td>\n",
       "      <td>True</td>\n",
       "      <td>False</td>\n",
       "      <td>False</td>\n",
       "      <td>False</td>\n",
       "      <td>False</td>\n",
       "      <td>1</td>\n",
       "    </tr>\n",
       "    <tr>\n",
       "      <th>28</th>\n",
       "      <td>Free cash flow per share</td>\n",
       "      <td>False</td>\n",
       "      <td>False</td>\n",
       "      <td>False</td>\n",
       "      <td>False</td>\n",
       "      <td>True</td>\n",
       "      <td>False</td>\n",
       "      <td>1</td>\n",
       "    </tr>\n",
       "    <tr>\n",
       "      <th>29</th>\n",
       "      <td>Earnings available for common stockholders</td>\n",
       "      <td>True</td>\n",
       "      <td>False</td>\n",
       "      <td>False</td>\n",
       "      <td>False</td>\n",
       "      <td>False</td>\n",
       "      <td>False</td>\n",
       "      <td>1</td>\n",
       "    </tr>\n",
       "    <tr>\n",
       "      <th>30</th>\n",
       "      <td>Earnings</td>\n",
       "      <td>False</td>\n",
       "      <td>False</td>\n",
       "      <td>True</td>\n",
       "      <td>False</td>\n",
       "      <td>False</td>\n",
       "      <td>False</td>\n",
       "      <td>1</td>\n",
       "    </tr>\n",
       "    <tr>\n",
       "      <th>31</th>\n",
       "      <td>EPS diluted</td>\n",
       "      <td>True</td>\n",
       "      <td>False</td>\n",
       "      <td>False</td>\n",
       "      <td>False</td>\n",
       "      <td>False</td>\n",
       "      <td>False</td>\n",
       "      <td>1</td>\n",
       "    </tr>\n",
       "    <tr>\n",
       "      <th>32</th>\n",
       "      <td>EPS basic</td>\n",
       "      <td>True</td>\n",
       "      <td>False</td>\n",
       "      <td>False</td>\n",
       "      <td>False</td>\n",
       "      <td>False</td>\n",
       "      <td>False</td>\n",
       "      <td>1</td>\n",
       "    </tr>\n",
       "    <tr>\n",
       "      <th>33</th>\n",
       "      <td>Current Assets</td>\n",
       "      <td>False</td>\n",
       "      <td>True</td>\n",
       "      <td>False</td>\n",
       "      <td>False</td>\n",
       "      <td>False</td>\n",
       "      <td>False</td>\n",
       "      <td>1</td>\n",
       "    </tr>\n",
       "    <tr>\n",
       "      <th>34</th>\n",
       "      <td>Cash from investing activities</td>\n",
       "      <td>False</td>\n",
       "      <td>False</td>\n",
       "      <td>False</td>\n",
       "      <td>False</td>\n",
       "      <td>True</td>\n",
       "      <td>False</td>\n",
       "      <td>1</td>\n",
       "    </tr>\n",
       "    <tr>\n",
       "      <th>35</th>\n",
       "      <td>Cash from financing activities</td>\n",
       "      <td>False</td>\n",
       "      <td>False</td>\n",
       "      <td>False</td>\n",
       "      <td>False</td>\n",
       "      <td>True</td>\n",
       "      <td>False</td>\n",
       "      <td>1</td>\n",
       "    </tr>\n",
       "    <tr>\n",
       "      <th>36</th>\n",
       "      <td>Liabilities</td>\n",
       "      <td>False</td>\n",
       "      <td>False</td>\n",
       "      <td>False</td>\n",
       "      <td>False</td>\n",
       "      <td>False</td>\n",
       "      <td>False</td>\n",
       "      <td>0</td>\n",
       "    </tr>\n",
       "    <tr>\n",
       "      <th>37</th>\n",
       "      <td>Asset turnover</td>\n",
       "      <td>False</td>\n",
       "      <td>False</td>\n",
       "      <td>False</td>\n",
       "      <td>False</td>\n",
       "      <td>False</td>\n",
       "      <td>False</td>\n",
       "      <td>0</td>\n",
       "    </tr>\n",
       "  </tbody>\n",
       "</table>\n",
       "</div>"
      ],
      "text/plain": [
       "                                       Feature  Pearson  Chi-2    RFE  \\\n",
       "1                                       Shares     True   True   True   \n",
       "2                                    P/B ratio     True   True   True   \n",
       "3                                       Assets     True  False   True   \n",
       "4                        Shares split adjusted     True  False   True   \n",
       "5                                    P/E ratio     True   True  False   \n",
       "6                               Long-term debt     True   True   True   \n",
       "7                        Dividend payout ratio     True   True   True   \n",
       "8               Cumulative dividends per share     True  False   True   \n",
       "9                                 Split factor     True  False   True   \n",
       "10                                     Revenue    False   True  False   \n",
       "11                                         ROA     True  False   True   \n",
       "12                      Equity to assets ratio    False  False   True   \n",
       "13                          Dividend per share    False   True   True   \n",
       "14                         Current Liabilities    False   True   True   \n",
       "15                       Cash at end of period    False   True  False   \n",
       "16                         Shareholders equity    False  False  False   \n",
       "17                    Non-controlling interest    False  False   True   \n",
       "18                                  Net margin    False   True   True   \n",
       "19                      Goodwill & intangibles     True   True  False   \n",
       "20                               Current ratio     True   True  False   \n",
       "21              Cash from operating activities    False  False  False   \n",
       "22                   Cash change during period    False  False  False   \n",
       "23                        Capital expenditures    False  False  False   \n",
       "24              Book value of equity per share    False  False  False   \n",
       "25                                         ROE    False  False  False   \n",
       "26                            Preferred equity    False   True  False   \n",
       "27              Long-term debt to equity ratio    False   True  False   \n",
       "28                    Free cash flow per share    False  False  False   \n",
       "29  Earnings available for common stockholders     True  False  False   \n",
       "30                                    Earnings    False  False   True   \n",
       "31                                 EPS diluted     True  False  False   \n",
       "32                                   EPS basic     True  False  False   \n",
       "33                              Current Assets    False   True  False   \n",
       "34              Cash from investing activities    False  False  False   \n",
       "35              Cash from financing activities    False  False  False   \n",
       "36                                 Liabilities    False  False  False   \n",
       "37                              Asset turnover    False  False  False   \n",
       "\n",
       "    Logistics  Random Forest  LightGBM  Total  \n",
       "1        True           True      True      6  \n",
       "2        True           True      True      6  \n",
       "3        True           True      True      5  \n",
       "4       False           True      True      4  \n",
       "5       False           True      True      4  \n",
       "6        True          False     False      4  \n",
       "7        True          False     False      4  \n",
       "8        True          False      True      4  \n",
       "9        True          False     False      3  \n",
       "10      False           True      True      3  \n",
       "11       True          False     False      3  \n",
       "12       True          False      True      3  \n",
       "13       True          False     False      3  \n",
       "14       True          False     False      3  \n",
       "15      False           True      True      3  \n",
       "16      False           True      True      2  \n",
       "17       True          False     False      2  \n",
       "18      False          False     False      2  \n",
       "19      False          False     False      2  \n",
       "20      False          False     False      2  \n",
       "21      False           True      True      2  \n",
       "22      False           True      True      2  \n",
       "23      False           True      True      2  \n",
       "24      False           True      True      2  \n",
       "25      False          False      True      1  \n",
       "26      False          False     False      1  \n",
       "27      False          False     False      1  \n",
       "28      False           True     False      1  \n",
       "29      False          False     False      1  \n",
       "30      False          False     False      1  \n",
       "31      False          False     False      1  \n",
       "32      False          False     False      1  \n",
       "33      False          False     False      1  \n",
       "34      False           True     False      1  \n",
       "35      False           True     False      1  \n",
       "36      False          False     False      0  \n",
       "37      False          False     False      0  "
      ]
     },
     "execution_count": 26,
     "metadata": {},
     "output_type": "execute_result"
    }
   ],
   "source": [
    "pd.set_option('display.max_rows', None)\n",
    "# put all selection together\n",
    "feature_selection_df = pd.DataFrame({'Feature': feature_name,\n",
    "                                    'Pearson': cor_support,\n",
    "                                    'Chi-2': chi_support,\n",
    "                                    'RFE': rfe_support,\n",
    "                                    'Logistics': embeded_lr_support,\n",
    "                                    'Random Forest': embeded_rf_support,\n",
    "                                    'LightGBM': embeded_lgb_support})\n",
    "\n",
    "# count the selected times for each feature\n",
    "feature_selection_df['Total'] = np.sum(feature_selection_df, axis=1)\n",
    "# display top features\n",
    "feature_selection_df = feature_selection_df.sort_values(['Total', 'Feature'], ascending=False)\n",
    "feature_selection_df.index = range(1, len(feature_selection_df)+1)\n",
    "feature_selection_df"
   ]
  },
  {
   "cell_type": "code",
   "execution_count": 46,
   "metadata": {},
   "outputs": [],
   "source": [
    "final_feature = [\n",
    "    'Shares',\n",
    "    'P/B ratio',\n",
    "    'Assets',\n",
    "    'P/E ratio',\n",
    "    'Long-term debt',\n",
    "    'Dividend payout ratio',\n",
    "    'Cumulative dividends per share',\n",
    "    'Revenue',\n",
    "    'ROA',\n",
    "    'Equity to assets ratio',\n",
    "    'Dividend per share',\n",
    "    'Current Liabilities',\n",
    "    'Shareholders equity',\n",
    "    'Net margin']"
   ]
  },
  {
   "cell_type": "code",
   "execution_count": 47,
   "metadata": {},
   "outputs": [
    {
     "name": "stdout",
     "output_type": "stream",
     "text": [
      "['Shares', 'P/B ratio', 'Assets', 'P/E ratio', 'Long-term debt', 'Dividend payout ratio', 'Cumulative dividends per share', 'Revenue', 'ROA', 'Equity to assets ratio', 'Dividend per share', 'Current Liabilities', 'Shareholders equity', 'Net margin']\n"
     ]
    }
   ],
   "source": [
    "print(final_feature)"
   ]
  },
  {
   "cell_type": "code",
   "execution_count": 28,
   "metadata": {},
   "outputs": [],
   "source": [
    "final_feature_df = X[final_feature] "
   ]
  },
  {
   "cell_type": "code",
   "execution_count": 20,
   "metadata": {},
   "outputs": [
    {
     "name": "stdout",
     "output_type": "stream",
     "text": [
      "http://LAPTOP-DL3DBF8J:40000/dtale/main/1\n",
      "It looks like this data may have already been loaded to D-Tale based on shape and column names. Here is URL of the data that seems to match it:\n",
      "\n",
      "None\n",
      "\n",
      "If you still want to load this data please use the following command:\n",
      "\n",
      "dtale.show(df, ignore_duplicate=True)\n",
      "Executing shutdown due to inactivity...\n"
     ]
    },
    {
     "name": "stderr",
     "output_type": "stream",
     "text": [
      "2020-04-05 17:14:24,932 - INFO     - Executing shutdown due to inactivity...\n"
     ]
    },
    {
     "name": "stdout",
     "output_type": "stream",
     "text": [
      "Executing shutdown...\n"
     ]
    },
    {
     "name": "stderr",
     "output_type": "stream",
     "text": [
      "2020-04-05 17:14:37,056 - INFO     - Executing shutdown...\n"
     ]
    }
   ],
   "source": [
    "# Using the dtale dtale.show() function to build a 'tabular' excel-like \n",
    "d1 = dtale.show(final_feature_df)"
   ]
  },
  {
   "cell_type": "code",
   "execution_count": 50,
   "metadata": {},
   "outputs": [],
   "source": [
    "polished_list = final_feature\n",
    "polished_list.append('Decision')"
   ]
  },
  {
   "cell_type": "code",
   "execution_count": 51,
   "metadata": {},
   "outputs": [
    {
     "name": "stdout",
     "output_type": "stream",
     "text": [
      "['Shares', 'P/B ratio', 'Assets', 'P/E ratio', 'Long-term debt', 'Dividend payout ratio', 'Cumulative dividends per share', 'Revenue', 'ROA', 'Equity to assets ratio', 'Dividend per share', 'Current Liabilities', 'Shareholders equity', 'Net margin', 'Decision']\n"
     ]
    }
   ],
   "source": [
    "print(polished_list)"
   ]
  },
  {
   "cell_type": "code",
   "execution_count": 54,
   "metadata": {},
   "outputs": [],
   "source": [
    "\"\"\"\n",
    "the final_df referenced here comes from all the way back to input:\n",
    "with open(\"main_df.pkl\", 'rb') as fp:\n",
    "    final_df = pickle.load(fp)\n",
    "\"\"\"\n",
    "polished_df = final_df[polished_list]"
   ]
  },
  {
   "cell_type": "code",
   "execution_count": 55,
   "metadata": {},
   "outputs": [
    {
     "name": "stdout",
     "output_type": "stream",
     "text": [
      "http://LAPTOP-DL3DBF8J:40000/dtale/main/2\n",
      "It looks like this data may have already been loaded to D-Tale based on shape and column names. Here is URL of the data that seems to match it:\n",
      "\n",
      "None\n",
      "\n",
      "If you still want to load this data please use the following command:\n",
      "\n",
      "dtale.show(df, ignore_duplicate=True)\n"
     ]
    }
   ],
   "source": [
    "d0 = dtale.show(polished_df)"
   ]
  },
  {
   "cell_type": "code",
   "execution_count": 57,
   "metadata": {},
   "outputs": [
    {
     "name": "stdout",
     "output_type": "stream",
     "text": [
      "http://LAPTOP-DL3DBF8J:40000/dtale/main/3\n",
      "It looks like this data may have already been loaded to D-Tale based on shape and column names. Here is URL of the data that seems to match it:\n",
      "\n",
      "None\n",
      "\n",
      "If you still want to load this data please use the following command:\n",
      "\n",
      "dtale.show(df, ignore_duplicate=True)\n"
     ]
    }
   ],
   "source": [
    "d_load = dtale.show(final_df)"
   ]
  },
  {
   "cell_type": "code",
   "execution_count": null,
   "metadata": {},
   "outputs": [],
   "source": [
    "with open(\"stock_pickle_full.pickle\", 'rb') as fp:\n",
    "    stocks_df = pickle.load(fp)"
   ]
  },
  {
   "cell_type": "code",
   "execution_count": 58,
   "metadata": {},
   "outputs": [],
   "source": [
    "with open(\"polished_df.pkl\", \"wb\") as fp:\n",
    "    pickle.dump(polished_df, fp)"
   ]
  },
  {
   "cell_type": "code",
   "execution_count": 59,
   "metadata": {},
   "outputs": [],
   "source": [
    "with open(\"polished_df.pkl\", \"rb\") as fp:\n",
    "    pickle.load(fp)"
   ]
  },
  {
   "cell_type": "code",
   "execution_count": 60,
   "metadata": {},
   "outputs": [
    {
     "data": {
      "text/html": [
       "<div>\n",
       "<style scoped>\n",
       "    .dataframe tbody tr th:only-of-type {\n",
       "        vertical-align: middle;\n",
       "    }\n",
       "\n",
       "    .dataframe tbody tr th {\n",
       "        vertical-align: top;\n",
       "    }\n",
       "\n",
       "    .dataframe thead th {\n",
       "        text-align: right;\n",
       "    }\n",
       "</style>\n",
       "<table border=\"1\" class=\"dataframe\">\n",
       "  <thead>\n",
       "    <tr style=\"text-align: right;\">\n",
       "      <th></th>\n",
       "      <th>Shares</th>\n",
       "      <th>P/B ratio</th>\n",
       "      <th>Assets</th>\n",
       "      <th>P/E ratio</th>\n",
       "      <th>Long-term debt</th>\n",
       "      <th>Dividend payout ratio</th>\n",
       "      <th>Cumulative dividends per share</th>\n",
       "      <th>Revenue</th>\n",
       "      <th>ROA</th>\n",
       "      <th>Equity to assets ratio</th>\n",
       "      <th>Dividend per share</th>\n",
       "      <th>Current Liabilities</th>\n",
       "      <th>Shareholders equity</th>\n",
       "      <th>Net margin</th>\n",
       "      <th>Decision</th>\n",
       "    </tr>\n",
       "  </thead>\n",
       "  <tbody>\n",
       "    <tr>\n",
       "      <th>0</th>\n",
       "      <td>0.060170</td>\n",
       "      <td>0.000000</td>\n",
       "      <td>3.011116</td>\n",
       "      <td>0.000000</td>\n",
       "      <td>0.0</td>\n",
       "      <td>0.0</td>\n",
       "      <td>0.0</td>\n",
       "      <td>10.641140</td>\n",
       "      <td>0.0</td>\n",
       "      <td>0.459442</td>\n",
       "      <td>0.0</td>\n",
       "      <td>5.757136</td>\n",
       "      <td>3.477486</td>\n",
       "      <td>0.000000</td>\n",
       "      <td>0.0</td>\n",
       "    </tr>\n",
       "    <tr>\n",
       "      <th>1</th>\n",
       "      <td>0.164196</td>\n",
       "      <td>-40.465919</td>\n",
       "      <td>6.911624</td>\n",
       "      <td>0.000000</td>\n",
       "      <td>0.0</td>\n",
       "      <td>0.0</td>\n",
       "      <td>0.0</td>\n",
       "      <td>7.444668</td>\n",
       "      <td>0.0</td>\n",
       "      <td>-1.230090</td>\n",
       "      <td>0.0</td>\n",
       "      <td>14.821592</td>\n",
       "      <td>5.601034</td>\n",
       "      <td>0.000000</td>\n",
       "      <td>0.0</td>\n",
       "    </tr>\n",
       "    <tr>\n",
       "      <th>2</th>\n",
       "      <td>0.739888</td>\n",
       "      <td>-31.739130</td>\n",
       "      <td>7.640220</td>\n",
       "      <td>0.000000</td>\n",
       "      <td>0.0</td>\n",
       "      <td>0.0</td>\n",
       "      <td>0.0</td>\n",
       "      <td>26.292135</td>\n",
       "      <td>0.0</td>\n",
       "      <td>-0.223535</td>\n",
       "      <td>0.0</td>\n",
       "      <td>9.880478</td>\n",
       "      <td>7.405141</td>\n",
       "      <td>0.000000</td>\n",
       "      <td>2.0</td>\n",
       "    </tr>\n",
       "    <tr>\n",
       "      <th>3</th>\n",
       "      <td>0.088384</td>\n",
       "      <td>-2.335456</td>\n",
       "      <td>9.293769</td>\n",
       "      <td>0.000000</td>\n",
       "      <td>0.0</td>\n",
       "      <td>0.0</td>\n",
       "      <td>0.0</td>\n",
       "      <td>-15.747331</td>\n",
       "      <td>0.0</td>\n",
       "      <td>-3.696591</td>\n",
       "      <td>0.0</td>\n",
       "      <td>11.312545</td>\n",
       "      <td>5.242165</td>\n",
       "      <td>0.000000</td>\n",
       "      <td>0.0</td>\n",
       "    </tr>\n",
       "    <tr>\n",
       "      <th>4</th>\n",
       "      <td>0.066338</td>\n",
       "      <td>-28.260870</td>\n",
       "      <td>-1.390096</td>\n",
       "      <td>-25.917859</td>\n",
       "      <td>0.0</td>\n",
       "      <td>0.0</td>\n",
       "      <td>0.0</td>\n",
       "      <td>-16.156283</td>\n",
       "      <td>0.0</td>\n",
       "      <td>2.775008</td>\n",
       "      <td>0.0</td>\n",
       "      <td>0.912052</td>\n",
       "      <td>1.353546</td>\n",
       "      <td>-8.163265</td>\n",
       "      <td>2.0</td>\n",
       "    </tr>\n",
       "  </tbody>\n",
       "</table>\n",
       "</div>"
      ],
      "text/plain": [
       "     Shares  P/B ratio    Assets  P/E ratio  Long-term debt  \\\n",
       "0  0.060170   0.000000  3.011116   0.000000             0.0   \n",
       "1  0.164196 -40.465919  6.911624   0.000000             0.0   \n",
       "2  0.739888 -31.739130  7.640220   0.000000             0.0   \n",
       "3  0.088384  -2.335456  9.293769   0.000000             0.0   \n",
       "4  0.066338 -28.260870 -1.390096 -25.917859             0.0   \n",
       "\n",
       "   Dividend payout ratio  Cumulative dividends per share    Revenue  ROA  \\\n",
       "0                    0.0                             0.0  10.641140  0.0   \n",
       "1                    0.0                             0.0   7.444668  0.0   \n",
       "2                    0.0                             0.0  26.292135  0.0   \n",
       "3                    0.0                             0.0 -15.747331  0.0   \n",
       "4                    0.0                             0.0 -16.156283  0.0   \n",
       "\n",
       "   Equity to assets ratio  Dividend per share  Current Liabilities  \\\n",
       "0                0.459442                 0.0             5.757136   \n",
       "1               -1.230090                 0.0            14.821592   \n",
       "2               -0.223535                 0.0             9.880478   \n",
       "3               -3.696591                 0.0            11.312545   \n",
       "4                2.775008                 0.0             0.912052   \n",
       "\n",
       "   Shareholders equity  Net margin  Decision  \n",
       "0             3.477486    0.000000       0.0  \n",
       "1             5.601034    0.000000       0.0  \n",
       "2             7.405141    0.000000       2.0  \n",
       "3             5.242165    0.000000       0.0  \n",
       "4             1.353546   -8.163265       2.0  "
      ]
     },
     "execution_count": 60,
     "metadata": {},
     "output_type": "execute_result"
    }
   ],
   "source": [
    "polished_df.head()"
   ]
  },
  {
   "cell_type": "code",
   "execution_count": null,
   "metadata": {},
   "outputs": [],
   "source": []
  }
 ],
 "metadata": {
  "kernelspec": {
   "display_name": "Python 3",
   "language": "python",
   "name": "python3"
  },
  "language_info": {
   "codemirror_mode": {
    "name": "ipython",
    "version": 3
   },
   "file_extension": ".py",
   "mimetype": "text/x-python",
   "name": "python",
   "nbconvert_exporter": "python",
   "pygments_lexer": "ipython3",
   "version": "3.7.6"
  }
 },
 "nbformat": 4,
 "nbformat_minor": 4
}
