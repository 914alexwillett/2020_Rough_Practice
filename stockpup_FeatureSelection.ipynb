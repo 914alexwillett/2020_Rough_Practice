{
 "cells": [
  {
   "cell_type": "code",
   "execution_count": 8,
   "metadata": {},
   "outputs": [],
   "source": [
    "import pandas as pd\n",
    "import numpy as np\n",
    "import tqdm # For getting progress information while the cell is running\n",
    "# from tqdm import tqdm_notebook as tqdm\n",
    "import seaborn as sns\n",
    "import _pickle as pickle\n",
    "import matplotlib.pyplot as plt\n",
    "%matplotlib inline"
   ]
  },
  {
   "cell_type": "code",
   "execution_count": 3,
   "metadata": {},
   "outputs": [],
   "source": [
    "pd.set_option('display.max_rows', 200)\n",
    "pd.set_option('display.max_columns', 70)\n",
    "\n",
    "with open(\"stock_pickle_full.pickle\", 'rb') as fp:\n",
    "    stocks_df = pickle.load(fp)"
   ]
  },
  {
   "cell_type": "code",
   "execution_count": 4,
   "metadata": {},
   "outputs": [],
   "source": [
    "def setting_index(df):\n",
    "    \"\"\"\n",
    "    Returns a sorted datetime index\n",
    "    \"\"\"\n",
    "    df['Quarter end'] = pd.to_datetime(df['Quarter end'])\n",
    "    df.set_index(\"Quarter end\", inplace=True)\n",
    "    return df.sort_index(ascending=True)\n",
    "  \n",
    "def class_creation(df, thres=3):\n",
    "    \"\"\"\n",
    "    Creates classes of:\n",
    "    - buy(1)\n",
    "    - hold(2)\n",
    "    - sell(0)\n",
    "    \n",
    "    Threshold can be changed to fit whatever price percentage change is desired\n",
    "    \"\"\"\n",
    "    if df['Price high'] >= thres and df['Price low'] >= thres:\n",
    "        # Buys\n",
    "        return 1\n",
    "    \n",
    "    elif df['Price high'] <= -thres and df['Price low'] <= -thres:\n",
    "        # Sells\n",
    "        return 0\n",
    "    \n",
    "    else:\n",
    "        # Holds\n",
    "        return 2"
   ]
  },
  {
   "cell_type": "code",
   "execution_count": null,
   "metadata": {},
   "outputs": [],
   "source": [
    "# Setting the index as the Date\n",
    "for i in tqdm(stocks_df.keys()):\n",
    "    stocks_df[i] = setting_index(stocks_df[i])\n",
    "    \n",
    "# Replacing all \"None\" values with NaN\n",
    "for i in tqdm(stocks_df.keys()):\n",
    "    stocks_df[i].replace(\"None\", 0, inplace=True)\n",
    "    \n",
    "# Creating a new dictionary that contains the numerical values, then converting all values to numeric values\n",
    "num_df = {}\n",
    "for i in tqdm(stocks_df.keys()):\n",
    "    num_df[i] = stocks_df[i].apply(pd.to_numeric)\n",
    "    \n",
    "# Replacing values with percent difference or change\n",
    "pcnt_df = {}\n",
    "for i in tqdm(num_df.keys()):\n",
    "    pcnt_df[i] = num_df[i].pct_change(periods=1).apply(lambda x: x*100)\n",
    "    \n",
    "# Replacing infinite values with NaN\n",
    "for i in tqdm(pcnt_df.keys()):\n",
    "    pcnt_df[i] = pcnt_df[i].replace([np.inf, -np.inf], np.nan)\n",
    "    \n",
    "# Creating a new DataFrame that contains the class 'Decision' determining if a quarterly reports improvement is a buy, hold, or sell.\n",
    "new_df = {}\n",
    "for i in tqdm(pcnt_df.keys()):\n",
    "    # Assigning the new DF\n",
    "    new_df[i] = pcnt_df[i]\n",
    "    \n",
    "    # Creating the new column with the classes, shifted by -1 in order to know if the prices will increase/decrease in the next quarter.\n",
    "    new_df[i]['Decision'] = new_df[i].apply(class_creation, axis=1).shift(-1)\n",
    "    \n",
    "# Excluding the first and last rows\n",
    "for i in tqdm(new_df.keys()):\n",
    "    new_df[i] = new_df[i][1:-1]\n",
    "    \n",
    "# Combining all stock DFs into one\n",
    "big_df = pd.DataFrame()\n",
    "for i in tqdm(pcnt_df.keys()):\n",
    "    big_df = big_df.append(new_df[i], sort=False)\n",
    "    \n",
    "# Filling the NaNs with 0\n",
    "big_df.fillna(0, inplace=True)\n",
    "\n",
    "# Resetting the index because we no longer need the dates\n",
    "big_df.reset_index(drop=True, inplace=True)\n",
    "\n",
    "# Dropping the price related columns to prevent data leakage\n",
    "big_df.drop(['Price', 'Price high', 'Price low'], 1, inplace=True)\n",
    "\n",
    "# Exporting the final DataFrame\n",
    "with open(\"main_df.pkl\", 'wb') as fp:\n",
    "    pickle.dump(big_df, fp)"
   ]
  },
  {
   "cell_type": "markdown",
   "metadata": {},
   "source": [
    "Exploring the Data"
   ]
  },
  {
   "cell_type": "code",
   "execution_count": 6,
   "metadata": {},
   "outputs": [],
   "source": [
    "with open(\"main_df.pkl\", 'rb') as fp:\n",
    "    final_df = pickle.load(fp)"
   ]
  },
  {
   "cell_type": "code",
   "execution_count": 9,
   "metadata": {},
   "outputs": [
    {
     "data": {
      "image/png": "[encoded data removed]",
      "text/plain": [
       "<Figure size 720x432 with 1 Axes>"
      ]
     },
     "metadata": {
      "needs_background": "light"
     },
     "output_type": "display_data"
    }
   ],
   "source": [
    "# Seperating each class into respective DataFrames\n",
    "buy_df = final_df[final_df['Decision']==1].loc[:, final_df.columns != 'Decision'].reset_index(drop=True)\n",
    "hold_df = final_df[final_df['Decision']==2].loc[:, final_df.columns != 'Decision'].reset_index(drop=True)\n",
    "sell_df = final_df[final_df['Decision']==0].loc[:, final_df.columns != 'Decision'].reset_index(drop=True)\n",
    "\n",
    "# Visualizing in matplotlib\n",
    "plt.figure(figsize=(10,6))\n",
    "plt.style.use('fivethirtyeight')\n",
    "\n",
    "# Plotting the count of each DataFrame of each class\n",
    "plt.bar(\"Buy\", buy_df.shape[0])\n",
    "plt.bar(\"Sell\", sell_df.shape[0])\n",
    "plt.bar(\"Hold\", hold_df.shape[0])\n",
    "\n",
    "plt.ylabel('# of Quarterly Reports')\n",
    "plt.title('Count of Quarterly Reports')\n",
    "plt.show()"
   ]
  },
  {
   "cell_type": "code",
   "execution_count": null,
   "metadata": {},
   "outputs": [],
   "source": []
  },
  {
   "cell_type": "code",
   "execution_count": null,
   "metadata": {},
   "outputs": [],
   "source": []
  },
  {
   "cell_type": "code",
   "execution_count": null,
   "metadata": {},
   "outputs": [],
   "source": []
  }
 ],
 "metadata": {
  "kernelspec": {
   "display_name": "Python 3",
   "language": "python",
   "name": "python3"
  },
  "language_info": {
   "codemirror_mode": {
    "name": "ipython",
    "version": 3
   },
   "file_extension": ".py",
   "mimetype": "text/x-python",
   "name": "python",
   "nbconvert_exporter": "python",
   "pygments_lexer": "ipython3",
   "version": "3.7.6"
  }
 },
 "nbformat": 4,
 "nbformat_minor": 4
}
