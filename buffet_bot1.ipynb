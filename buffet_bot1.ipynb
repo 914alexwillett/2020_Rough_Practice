{
 "cells": [
  {
   "cell_type": "markdown",
   "metadata": {},
   "source": [
    "Fundamental Analysis Trade Bot"
   ]
  },
  {
   "cell_type": "code",
   "execution_count": 1,
   "metadata": {},
   "outputs": [],
   "source": [
    "import pandas as pd\n",
    "import numpy as np\n",
    "from sklearn.ensemble import ExtraTreesClassifier\n",
    "from tqdm import tqdm_notebook as tqdm\n",
    "import _pickle as pickle\n",
    "import seaborn as sns\n",
    "import matplotlib.pyplot as plt\n",
    "%matplotlib inline"
   ]
  },
  {
   "cell_type": "code",
   "execution_count": 2,
   "metadata": {},
   "outputs": [],
   "source": [
    "pd.set_option('display.max_rows', 200)\n",
    "pd.set_option('display.max_columns', 70)\n",
    "\n",
    "with open(\"stock_pickle_full.pickle\", 'rb') as fp:\n",
    "    stocks_df = pickle.load(fp)"
   ]
  },
  {
   "cell_type": "markdown",
   "metadata": {},
   "source": [
    "Helper Functions to Assist Preprocessing"
   ]
  },
  {
   "cell_type": "code",
   "execution_count": 3,
   "metadata": {},
   "outputs": [],
   "source": [
    "def setting_index(df):\n",
    "    \"\"\"\n",
    "    Returns a sorted datetime index\n",
    "    \"\"\"\n",
    "    df['Quarter end'] = pd.to_datetime(df['Quarter end'])\n",
    "    df.set_index(\"Quarter end\", inplace=True)\n",
    "    return df.sort_index(ascending=True)\n",
    "  \n",
    "def class_creation(df, thres=3):\n",
    "    \"\"\"\n",
    "    Creates classes of:\n",
    "    - buy(1)\n",
    "    - hold(2)\n",
    "    - sell(0)\n",
    "    \n",
    "    Threshold can be changed to fit whatever price percentage change is desired\n",
    "    \"\"\"\n",
    "    if df['Price high'] >= thres and df['Price low'] >= thres:\n",
    "        # Buys\n",
    "        return 1\n",
    "    \n",
    "    elif df['Price high'] <= -thres and df['Price low'] <= -thres:\n",
    "        # Sells\n",
    "        return 0\n",
    "    \n",
    "    else:\n",
    "        # Holds\n",
    "        return 2"
   ]
  },
  {
   "cell_type": "markdown",
   "metadata": {},
   "source": [
    "Iterating through each Ticker to Transform the Data"
   ]
  },
  {
   "cell_type": "code",
   "execution_count": 4,
   "metadata": {},
   "outputs": [
    {
     "name": "stderr",
     "output_type": "stream",
     "text": [
      "C:\\Users\\Alex Willett\\Anacondaweed\\lib\\site-packages\\ipykernel_launcher.py:2: TqdmDeprecationWarning: This function will be removed in tqdm==5.0.0\n",
      "Please use `tqdm.notebook.tqdm` instead of `tqdm.tqdm_notebook`\n",
      "  \n"
     ]
    },
    {
     "data": {
      "application/vnd.jupyter.widget-view+json": {
       "model_id": "7c41f0b3c0ba4b7aa92eeef168ec764b",
       "version_major": 2,
       "version_minor": 0
      },
      "text/plain": [
       "HBox(children=(FloatProgress(value=0.0, max=698.0), HTML(value='')))"
      ]
     },
     "metadata": {},
     "output_type": "display_data"
    },
    {
     "name": "stdout",
     "output_type": "stream",
     "text": [
      "\n"
     ]
    },
    {
     "name": "stderr",
     "output_type": "stream",
     "text": [
      "C:\\Users\\Alex Willett\\Anacondaweed\\lib\\site-packages\\ipykernel_launcher.py:6: TqdmDeprecationWarning: This function will be removed in tqdm==5.0.0\n",
      "Please use `tqdm.notebook.tqdm` instead of `tqdm.tqdm_notebook`\n",
      "  \n"
     ]
    },
    {
     "data": {
      "application/vnd.jupyter.widget-view+json": {
       "model_id": "461f2644e36640669ea7d6e784ec858c",
       "version_major": 2,
       "version_minor": 0
      },
      "text/plain": [
       "HBox(children=(FloatProgress(value=0.0, max=698.0), HTML(value='')))"
      ]
     },
     "metadata": {},
     "output_type": "display_data"
    },
    {
     "name": "stdout",
     "output_type": "stream",
     "text": [
      "\n"
     ]
    },
    {
     "name": "stderr",
     "output_type": "stream",
     "text": [
      "C:\\Users\\Alex Willett\\Anacondaweed\\lib\\site-packages\\ipykernel_launcher.py:11: TqdmDeprecationWarning: This function will be removed in tqdm==5.0.0\n",
      "Please use `tqdm.notebook.tqdm` instead of `tqdm.tqdm_notebook`\n",
      "  # This is added back by InteractiveShellApp.init_path()\n"
     ]
    },
    {
     "data": {
      "application/vnd.jupyter.widget-view+json": {
       "model_id": "076dd7c5384c46449396133b58a1107b",
       "version_major": 2,
       "version_minor": 0
      },
      "text/plain": [
       "HBox(children=(FloatProgress(value=0.0, max=698.0), HTML(value='')))"
      ]
     },
     "metadata": {},
     "output_type": "display_data"
    },
    {
     "name": "stdout",
     "output_type": "stream",
     "text": [
      "\n"
     ]
    },
    {
     "name": "stderr",
     "output_type": "stream",
     "text": [
      "C:\\Users\\Alex Willett\\Anacondaweed\\lib\\site-packages\\ipykernel_launcher.py:16: TqdmDeprecationWarning: This function will be removed in tqdm==5.0.0\n",
      "Please use `tqdm.notebook.tqdm` instead of `tqdm.tqdm_notebook`\n",
      "  app.launch_new_instance()\n"
     ]
    },
    {
     "data": {
      "application/vnd.jupyter.widget-view+json": {
       "model_id": "d71e4fee5fcb45c6b54e5510657115db",
       "version_major": 2,
       "version_minor": 0
      },
      "text/plain": [
       "HBox(children=(FloatProgress(value=0.0, max=698.0), HTML(value='')))"
      ]
     },
     "metadata": {},
     "output_type": "display_data"
    },
    {
     "name": "stdout",
     "output_type": "stream",
     "text": [
      "\n"
     ]
    },
    {
     "name": "stderr",
     "output_type": "stream",
     "text": [
      "C:\\Users\\Alex Willett\\Anacondaweed\\lib\\site-packages\\ipykernel_launcher.py:20: TqdmDeprecationWarning: This function will be removed in tqdm==5.0.0\n",
      "Please use `tqdm.notebook.tqdm` instead of `tqdm.tqdm_notebook`\n"
     ]
    },
    {
     "data": {
      "application/vnd.jupyter.widget-view+json": {
       "model_id": "a353e04733c341a5843e63040f63a2fd",
       "version_major": 2,
       "version_minor": 0
      },
      "text/plain": [
       "HBox(children=(FloatProgress(value=0.0, max=698.0), HTML(value='')))"
      ]
     },
     "metadata": {},
     "output_type": "display_data"
    },
    {
     "name": "stdout",
     "output_type": "stream",
     "text": [
      "\n"
     ]
    },
    {
     "name": "stderr",
     "output_type": "stream",
     "text": [
      "C:\\Users\\Alex Willett\\Anacondaweed\\lib\\site-packages\\ipykernel_launcher.py:25: TqdmDeprecationWarning: This function will be removed in tqdm==5.0.0\n",
      "Please use `tqdm.notebook.tqdm` instead of `tqdm.tqdm_notebook`\n"
     ]
    },
    {
     "data": {
      "application/vnd.jupyter.widget-view+json": {
       "model_id": "c0b7d8e64b6e4a84ba4bf05a137337b1",
       "version_major": 2,
       "version_minor": 0
      },
      "text/plain": [
       "HBox(children=(FloatProgress(value=0.0, max=698.0), HTML(value='')))"
      ]
     },
     "metadata": {},
     "output_type": "display_data"
    },
    {
     "name": "stdout",
     "output_type": "stream",
     "text": [
      "\n"
     ]
    },
    {
     "name": "stderr",
     "output_type": "stream",
     "text": [
      "C:\\Users\\Alex Willett\\Anacondaweed\\lib\\site-packages\\ipykernel_launcher.py:33: TqdmDeprecationWarning: This function will be removed in tqdm==5.0.0\n",
      "Please use `tqdm.notebook.tqdm` instead of `tqdm.tqdm_notebook`\n"
     ]
    },
    {
     "data": {
      "application/vnd.jupyter.widget-view+json": {
       "model_id": "f569b151c07048479fd67db29b2a0234",
       "version_major": 2,
       "version_minor": 0
      },
      "text/plain": [
       "HBox(children=(FloatProgress(value=0.0, max=698.0), HTML(value='')))"
      ]
     },
     "metadata": {},
     "output_type": "display_data"
    },
    {
     "name": "stdout",
     "output_type": "stream",
     "text": [
      "\n"
     ]
    },
    {
     "name": "stderr",
     "output_type": "stream",
     "text": [
      "C:\\Users\\Alex Willett\\Anacondaweed\\lib\\site-packages\\ipykernel_launcher.py:38: TqdmDeprecationWarning: This function will be removed in tqdm==5.0.0\n",
      "Please use `tqdm.notebook.tqdm` instead of `tqdm.tqdm_notebook`\n"
     ]
    },
    {
     "data": {
      "application/vnd.jupyter.widget-view+json": {
       "model_id": "5e207c312b564321b676847d162da3bb",
       "version_major": 2,
       "version_minor": 0
      },
      "text/plain": [
       "HBox(children=(FloatProgress(value=0.0, max=698.0), HTML(value='')))"
      ]
     },
     "metadata": {},
     "output_type": "display_data"
    },
    {
     "name": "stdout",
     "output_type": "stream",
     "text": [
      "\n"
     ]
    }
   ],
   "source": [
    "# Setting the index as the Date\n",
    "for i in tqdm(stocks_df.keys()):\n",
    "    stocks_df[i] = setting_index(stocks_df[i])\n",
    "    \n",
    "# Replacing all \"None\" values with NaN\n",
    "for i in tqdm(stocks_df.keys()):\n",
    "    stocks_df[i].replace(\"None\", 0, inplace=True)\n",
    "    \n",
    "# Creating a new dictionary that contains the numerical values, then converting all values to numeric values\n",
    "num_df = {}\n",
    "for i in tqdm(stocks_df.keys()):\n",
    "    num_df[i] = stocks_df[i].apply(pd.to_numeric)\n",
    "    \n",
    "# Replacing values with percent difference or change\n",
    "pcnt_df = {}\n",
    "for i in tqdm(num_df.keys()):\n",
    "    pcnt_df[i] = num_df[i].pct_change(periods=1).apply(lambda x: x*100)\n",
    "    \n",
    "# Replacing infinite values with NaN\n",
    "for i in tqdm(pcnt_df.keys()):\n",
    "    pcnt_df[i] = pcnt_df[i].replace([np.inf, -np.inf], np.nan)\n",
    "    \n",
    "# Creating a new DataFrame that contains the class 'Decision' determining if a quarterly reports improvement is a buy, hold, or sell.\n",
    "new_df = {}\n",
    "for i in tqdm(pcnt_df.keys()):\n",
    "    # Assigning the new DF\n",
    "    new_df[i] = pcnt_df[i]\n",
    "    \n",
    "    # Creating the new column with the classes, shifted by -1 in order to know if the prices will increase/decrease in the next quarter.\n",
    "    new_df[i]['Decision'] = new_df[i].apply(class_creation, axis=1).shift(-1)\n",
    "    \n",
    "# Excluding the first and last rows\n",
    "for i in tqdm(new_df.keys()):\n",
    "    new_df[i] = new_df[i][1:-1]\n",
    "    \n",
    "# Combining all stock DFs into one\n",
    "big_df = pd.DataFrame()\n",
    "for i in tqdm(pcnt_df.keys()):\n",
    "    big_df = big_df.append(new_df[i], sort=False)\n",
    "    \n",
    "# Filling the NaNs with 0\n",
    "big_df.fillna(0, inplace=True)\n",
    "\n",
    "# Resetting the index because we no longer need the dates\n",
    "big_df.reset_index(drop=True, inplace=True)\n",
    "\n",
    "# Dropping the price related columns to prevent data leakage\n",
    "big_df.drop(['Price', 'Price high', 'Price low'], 1, inplace=True)\n",
    "\n",
    "# Exporting the final DataFrame\n",
    "with open(\"main_df.pkl\", 'wb') as fp:\n",
    "    pickle.dump(big_df, fp)"
   ]
  },
  {
   "cell_type": "markdown",
   "metadata": {},
   "source": [
    "Exploring the Data"
   ]
  },
  {
   "cell_type": "code",
   "execution_count": 5,
   "metadata": {},
   "outputs": [],
   "source": [
    "with open(\"main_df.pkl\", 'rb') as fp:\n",
    "    final_df = pickle.load(fp)"
   ]
  },
  {
   "cell_type": "markdown",
   "metadata": {},
   "source": [
    "Visualize the Count of our Classes"
   ]
  },
  {
   "cell_type": "code",
   "execution_count": 6,
   "metadata": {},
   "outputs": [
    {
     "data": {
      "image/png": "[encoded data removed]",
      "text/plain": [
       "<Figure size 720x432 with 1 Axes>"
      ]
     },
     "metadata": {
      "needs_background": "light"
     },
     "output_type": "display_data"
    }
   ],
   "source": [
    "# Seperating each class into respective DataFrames\n",
    "buy_df = final_df[final_df['Decision']==1].loc[:, final_df.columns != 'Decision'].reset_index(drop=True)\n",
    "hold_df = final_df[final_df['Decision']==2].loc[:, final_df.columns != 'Decision'].reset_index(drop=True)\n",
    "sell_df = final_df[final_df['Decision']==0].loc[:, final_df.columns != 'Decision'].reset_index(drop=True)\n",
    "\n",
    "# Visualizing in matplotlib\n",
    "plt.figure(figsize=(10,6))\n",
    "plt.style.use('fivethirtyeight')\n",
    "\n",
    "# Plotting the count of each DataFrame of each class\n",
    "plt.bar(\"Buy\", buy_df.shape[0])\n",
    "plt.bar(\"Sell\", sell_df.shape[0])\n",
    "plt.bar(\"Hold\", hold_df.shape[0])\n",
    "\n",
    "plt.ylabel('# of Quarterly Reports')\n",
    "plt.title('Count of Quarterly Reports')\n",
    "plt.show()"
   ]
  },
  {
   "cell_type": "markdown",
   "metadata": {},
   "source": [
    "Correlation in Our Data"
   ]
  },
  {
   "cell_type": "code",
   "execution_count": 12,
   "metadata": {},
   "outputs": [
    {
     "data": {
      "image/png": "[encoded data removed]",
      "text/plain": [
       "<Figure size 1008x72 with 2 Axes>"
      ]
     },
     "metadata": {},
     "output_type": "display_data"
    }
   ],
   "source": [
    "def CorrMtx(df, dropDuplicates = True):\n",
    "    \"\"\"\n",
    "    Takes in a Correlation DF and excludes nonessential visuals.\n",
    "    Creates a more visually pleasing correlation matrix\n",
    "    \"\"\"\n",
    "\n",
    "    # Exclude duplicate correlations by masking uper right values\n",
    "    if dropDuplicates:    \n",
    "        mask = np.zeros_like(df, dtype=np.bool)\n",
    "        mask[np.triu_indices_from(mask)] = True\n",
    "\n",
    "    # Set background color / chart style\n",
    "    sns.set_style(style = 'white')\n",
    "\n",
    "    # Set up  matplotlib figure\n",
    "    f, ax = plt.subplots(figsize=(11, 9))\n",
    "\n",
    "    # Add diverging colormap from red to blue\n",
    "    cmap = sns.diverging_palette(250, 10, as_cmap=True)\n",
    "\n",
    "    # Draw correlation plot with or without duplicates\n",
    "    if dropDuplicates:\n",
    "        sns.heatmap(df, mask=mask, cmap=cmap, \n",
    "                square=True,\n",
    "                linewidth=.5, cbar_kws={\"shrink\": .5}, ax=ax)\n",
    "    else:\n",
    "        sns.heatmap(df, cmap=cmap, \n",
    "                square=True,\n",
    "                linewidth=.5, cbar_kws={\"shrink\": .5}, ax=ax)\n",
    "        \n",
    "        \n",
    "# Correlation DF of all classes\n",
    "corr = final_df.corr().iloc[[-1],:-1]\n",
    "\n",
    "# Plotting the Correlation DF as a heatmap\n",
    "plt.figure(figsize=(14,1))\n",
    "sns.heatmap(corr, annot=False, linewidths=.1, cmap=\"coolwarm\")\n",
    "plt.xticks()\n",
    "plt.yticks(rotation=0)\n",
    "plt.show()"
   ]
  },
  {
   "cell_type": "code",
   "execution_count": null,
   "metadata": {},
   "outputs": [],
   "source": []
  },
  {
   "cell_type": "markdown",
   "metadata": {},
   "source": [
    "Feature Engineering and Selection"
   ]
  },
  {
   "cell_type": "markdown",
   "metadata": {},
   "source": [
    "Method # 1 Selecting the Top 10 Features based on Correlation Values"
   ]
  },
  {
   "cell_type": "code",
   "execution_count": 8,
   "metadata": {},
   "outputs": [],
   "source": [
    "# Correlation DF of all classes\n",
    "corr = final_df.corr().iloc[[-1],:-1]\n",
    "\n",
    "# Sorting our Correlation DF by their absolute values and selecting the top 10\n",
    "top10_corr = corr.transpose().apply(abs).sort_values(by='Decision', ascending=False)[:10]\n",
    "\n",
    "# Creating a new DF with the features from the top10_corr and joing the 'Decision' class labels\n",
    "top10_corr_df = final_df[top10_corr.index].join(final_df.Decision)\n",
    "\n",
    "# Pickling the DF for use in our Classification models\n",
    "with open(\"top10_corr_df.pkl\", \"wb\") as fp:\n",
    "    pickle.dump(top10_corr_df, fp)"
   ]
  },
  {
   "cell_type": "markdown",
   "metadata": {},
   "source": [
    "Method #2: Selecting the Top 10 features based of Tree Classifier"
   ]
  },
  {
   "cell_type": "code",
   "execution_count": 9,
   "metadata": {},
   "outputs": [],
   "source": [
    "# Instatiating the classifier\n",
    "forest = ExtraTreesClassifier(n_estimators=200)\n",
    "\n",
    "# Setting the corresponding variables for our classifier\n",
    "X = final_df.drop(['Decision'], 1)\n",
    "y = final_df.Decision\n",
    "\n",
    "# Fitting the classifier\n",
    "forest.fit(X, y)\n",
    "\n",
    "# Determining the important features\n",
    "importances = forest.feature_importances_\n",
    "\n",
    "# The standard deviation among the trees for the important features\n",
    "std = np.std([i.feature_importances_ for i in forest.estimators_], axis=0)\n",
    "\n",
    "# Indexing and sorting the important features\n",
    "indices = np.argsort(importances)[::-1]\n",
    "\n",
    "# Assigning the top 10 features as a new DF\n",
    "top10_df = final_df[X.columns[indices][:10]].join(final_df.Decision)\n",
    "\n",
    "# Exporting the top 10 features DF\n",
    "with open(\"top10_df.pkl\", \"wb\") as fp:\n",
    "    pickle.dump(top10_df, fp)"
   ]
  },
  {
   "cell_type": "code",
   "execution_count": 10,
   "metadata": {},
   "outputs": [
    {
     "name": "stdout",
     "output_type": "stream",
     "text": [
      "Feature Rankings:\n",
      "1. P/B ratio: 0.042360006740268526\n",
      "2. Assets: 0.031553966919356774\n",
      "3. Shares split adjusted: 0.030672230113299007\n",
      "4. Shares: 0.030210380735920483\n",
      "5. P/E ratio: 0.030060483503745593\n",
      "6. Asset turnover: 0.029723313646006395\n",
      "7. Current Assets: 0.029584388071345637\n",
      "8. Liabilities: 0.029428608112522427\n",
      "9. Cash at end of period: 0.029418521635616566\n",
      "10. Revenue: 0.029164871300878577\n"
     ]
    },
    {
     "data": {
      "image/png": "[encoded data removed]",
      "text/plain": [
       "<Figure size 1008x504 with 1 Axes>"
      ]
     },
     "metadata": {},
     "output_type": "display_data"
    }
   ],
   "source": [
    "\n",
    "# Matplotlib style to use\n",
    "plt.style.use('seaborn')\n",
    "\n",
    "# Printing out the different features as a list\n",
    "print(\"Feature Rankings:\")\n",
    "\n",
    "# Showing the top 10 features\n",
    "for i in range(10):\n",
    "    print(f\"{i+1}. {X.columns[indices[i]]}: {importances[indices[i]]}\")\n",
    "    \n",
    "# Plotting the top 10 features\n",
    "plt.figure(figsize=(14,7))\n",
    "\n",
    "plt.title(\"Feature Importances for the Original Dataset\")\n",
    "plt.bar(range(X.shape[1]), importances[indices], yerr=std[indices], align='center')\n",
    "\n",
    "plt.xticks(range(X.shape[1]), X.columns[indices], rotation=90)\n",
    "plt.xlim([-1, 11.5])\n",
    "plt.show()"
   ]
  },
  {
   "cell_type": "code",
   "execution_count": null,
   "metadata": {},
   "outputs": [],
   "source": []
  },
  {
   "cell_type": "code",
   "execution_count": null,
   "metadata": {},
   "outputs": [],
   "source": []
  },
  {
   "cell_type": "code",
   "execution_count": null,
   "metadata": {},
   "outputs": [],
   "source": [
    "Fa"
   ]
  }
 ],
 "metadata": {
  "kernelspec": {
   "display_name": "Python 3",
   "language": "python",
   "name": "python3"
  },
  "language_info": {
   "codemirror_mode": {
    "name": "ipython",
    "version": 3
   },
   "file_extension": ".py",
   "mimetype": "text/x-python",
   "name": "python",
   "nbconvert_exporter": "python",
   "pygments_lexer": "ipython3",
   "version": "3.7.6"
  }
 },
 "nbformat": 4,
 "nbformat_minor": 4
}
