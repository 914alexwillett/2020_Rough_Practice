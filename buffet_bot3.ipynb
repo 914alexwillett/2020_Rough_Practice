{
 "cells": [
  {
   "cell_type": "code",
   "execution_count": 1,
   "metadata": {},
   "outputs": [],
   "source": [
    "import _pickle as pickle\n",
    "import numpy as np\n",
    "import pandas as pd\n",
    "from sklearn.model_selection import train_test_split\n",
    "from sklearn.metrics import confusion_matrix, classification_report\n",
    "import matplotlib.pyplot as plt"
   ]
  },
  {
   "cell_type": "code",
   "execution_count": 2,
   "metadata": {},
   "outputs": [],
   "source": [
    "with open(\"top10_df.pkl\",'rb') as fp:\n",
    "    df = pickle.load(fp)"
   ]
  },
  {
   "cell_type": "code",
   "execution_count": 3,
   "metadata": {},
   "outputs": [],
   "source": [
    "from sklearn.preprocessing import StandardScaler"
   ]
  },
  {
   "cell_type": "code",
   "execution_count": 4,
   "metadata": {},
   "outputs": [],
   "source": [
    "scaler = StandardScaler()\n",
    "\n",
    "features_df = df.drop([\"Decision\"], 1)\n",
    "\n",
    "scaled_df = pd.DataFrame(scaler.fit_transform(features_df), \n",
    "                               index=features_df.index, \n",
    "                               columns=features_df.columns)\n",
    "\n",
    "df = scaled_df.join(df.Decision)\n",
    "\n",
    "### Splitting the data\n",
    "X = df.drop([\"Decision\"], 1)\n",
    "y = df.Decision\n",
    "\n",
    "# Train, test, split\n",
    "X_train, X_test, y_train, y_test = train_test_split(X, y)"
   ]
  },
  {
   "cell_type": "code",
   "execution_count": 5,
   "metadata": {},
   "outputs": [
    {
     "data": {
      "text/plain": [
       "AdaBoostClassifier(algorithm='SAMME.R', base_estimator=None, learning_rate=1.0,\n",
       "                   n_estimators=50, random_state=None)"
      ]
     },
     "execution_count": 5,
     "metadata": {},
     "output_type": "execute_result"
    }
   ],
   "source": [
    "# Importing the model (this is the line in the model you would change for each model)\n",
    "from sklearn.ensemble import AdaBoostClassifier\n",
    "\n",
    "# Instantiating the model (also change this line)\n",
    "clf = AdaBoostClassifier()\n",
    "\n",
    "# Fitting the model\n",
    "clf.fit(X_train, y_train)"
   ]
  },
  {
   "cell_type": "code",
   "execution_count": 6,
   "metadata": {},
   "outputs": [
    {
     "name": "stdout",
     "output_type": "stream",
     "text": [
      "              precision    recall  f1-score   support\n",
      "\n",
      "        Sell       0.37      0.04      0.07      2633\n",
      "         Buy       0.47      0.35      0.40      5075\n",
      "        Hold       0.47      0.75      0.57      6184\n",
      "\n",
      "    accuracy                           0.47     13892\n",
      "   macro avg       0.43      0.38      0.35     13892\n",
      "weighted avg       0.45      0.47      0.41     13892\n",
      "\n"
     ]
    },
    {
     "data": {
      "image/png": "[encoded data removed]",
      "text/plain": [
       "<Figure size 864x432 with 2 Axes>"
      ]
     },
     "metadata": {
      "needs_background": "light"
     },
     "output_type": "display_data"
    }
   ],
   "source": [
    "### Printing out evaluation metrics\n",
    "# Classifier predictions\n",
    "pred = clf.predict(X_test)\n",
    "\n",
    "#Printing out results\n",
    "report = classification_report(y_test, pred, target_names=['Sell', 'Buy', 'Hold'])\n",
    "print(report)\n",
    "\n",
    "### Confusion Matrix Function\n",
    "def plot_confusion_matrix(y_true, y_pred, labels=[\"Sell\", \"Buy\", \"Hold\"], \n",
    "                          normalize=False, title=None, cmap=plt.cm.coolwarm):\n",
    "\n",
    "    cm = confusion_matrix(y_true, y_pred)\n",
    "    fig, ax = plt.subplots(figsize=(12,6))\n",
    "    im = ax.imshow(cm, interpolation='nearest', cmap=cmap)\n",
    "    ax.figure.colorbar(im, ax=ax)\n",
    "    # We want to show all ticks...\n",
    "    ax.set(xticks=np.arange(cm.shape[1]),\n",
    "           yticks=np.arange(cm.shape[0]),\n",
    "           # ... and label them with the respective list entries\n",
    "           xticklabels=labels, yticklabels=labels,\n",
    "           title=title,\n",
    "           ylabel='ACTUAL',\n",
    "           xlabel='PREDICTED')\n",
    "    # Rotate the tick labels and set their alignment.\n",
    "    plt.setp(ax.get_xticklabels(), rotation=45, ha=\"right\",\n",
    "             rotation_mode=\"anchor\")\n",
    "    # Loop over data dimensions and create text annotations.\n",
    "    fmt = '.2f' if normalize else 'd'\n",
    "    thresh = cm.max() / 1.5\n",
    "    for i in range(cm.shape[0]):\n",
    "        for j in range(cm.shape[1]):\n",
    "            ax.text(j, i, format(cm[i, j], fmt),\n",
    "                    ha=\"center\", va=\"center\",\n",
    "                    color=\"snow\" if cm[i, j] > thresh else \"orange\",\n",
    "                    size=26)\n",
    "    ax.grid(False)\n",
    "    fig.tight_layout()\n",
    "    return ax\n",
    "  \n",
    "### Running the Confusion Matrix\n",
    "plot_confusion_matrix(y_test, pred, title=\"Confusion Matrix\")\n",
    "np.set_printoptions(precision=1)\n",
    "# Plot non-normalized confusion matrix\n",
    "plt.show()"
   ]
  },
  {
   "cell_type": "code",
   "execution_count": 7,
   "metadata": {},
   "outputs": [],
   "source": [
    "# Importing GridSearch \n",
    "from sklearn.model_selection import GridSearchCV"
   ]
  },
  {
   "cell_type": "code",
   "execution_count": 8,
   "metadata": {},
   "outputs": [
    {
     "name": "stdout",
     "output_type": "stream",
     "text": [
      "Fitting 3 folds for each of 12 candidates, totalling 36 fits\n",
      "[CV] learning_rate=1, n_estimators=50 ................................\n"
     ]
    },
    {
     "name": "stderr",
     "output_type": "stream",
     "text": [
      "[Parallel(n_jobs=1)]: Using backend SequentialBackend with 1 concurrent workers.\n"
     ]
    },
    {
     "name": "stdout",
     "output_type": "stream",
     "text": [
      "[CV]  learning_rate=1, n_estimators=50, score=(train=0.353, test=0.348), total=   2.7s\n",
      "[CV] learning_rate=1, n_estimators=50 ................................\n"
     ]
    },
    {
     "name": "stderr",
     "output_type": "stream",
     "text": [
      "[Parallel(n_jobs=1)]: Done   1 out of   1 | elapsed:    3.0s remaining:    0.0s\n"
     ]
    },
    {
     "name": "stdout",
     "output_type": "stream",
     "text": [
      "[CV]  learning_rate=1, n_estimators=50, score=(train=0.352, test=0.340), total=   2.9s\n",
      "[CV] learning_rate=1, n_estimators=50 ................................\n"
     ]
    },
    {
     "name": "stderr",
     "output_type": "stream",
     "text": [
      "[Parallel(n_jobs=1)]: Done   2 out of   2 | elapsed:    6.3s remaining:    0.0s\n"
     ]
    },
    {
     "name": "stdout",
     "output_type": "stream",
     "text": [
      "[CV]  learning_rate=1, n_estimators=50, score=(train=0.347, test=0.339), total=   2.8s\n",
      "[CV] learning_rate=1, n_estimators=100 ...............................\n"
     ]
    },
    {
     "name": "stderr",
     "output_type": "stream",
     "text": [
      "[Parallel(n_jobs=1)]: Done   3 out of   3 | elapsed:    9.4s remaining:    0.0s\n"
     ]
    },
    {
     "name": "stdout",
     "output_type": "stream",
     "text": [
      "[CV]  learning_rate=1, n_estimators=100, score=(train=0.361, test=0.354), total=   5.3s\n",
      "[CV] learning_rate=1, n_estimators=100 ...............................\n"
     ]
    },
    {
     "name": "stderr",
     "output_type": "stream",
     "text": [
      "[Parallel(n_jobs=1)]: Done   4 out of   4 | elapsed:   15.4s remaining:    0.0s\n"
     ]
    },
    {
     "name": "stdout",
     "output_type": "stream",
     "text": [
      "[CV]  learning_rate=1, n_estimators=100, score=(train=0.361, test=0.346), total=   5.4s\n",
      "[CV] learning_rate=1, n_estimators=100 ...............................\n",
      "[CV]  learning_rate=1, n_estimators=100, score=(train=0.353, test=0.349), total=   5.4s\n",
      "[CV] learning_rate=1, n_estimators=200 ...............................\n",
      "[CV]  learning_rate=1, n_estimators=200, score=(train=0.364, test=0.352), total=  10.6s\n",
      "[CV] learning_rate=1, n_estimators=200 ...............................\n",
      "[CV]  learning_rate=1, n_estimators=200, score=(train=0.365, test=0.345), total=  10.4s\n",
      "[CV] learning_rate=1, n_estimators=200 ...............................\n",
      "[CV]  learning_rate=1, n_estimators=200, score=(train=0.358, test=0.345), total=  10.6s\n",
      "[CV] learning_rate=1, n_estimators=500 ...............................\n",
      "[CV]  learning_rate=1, n_estimators=500, score=(train=0.372, test=0.352), total=  27.1s\n",
      "[CV] learning_rate=1, n_estimators=500 ...............................\n",
      "[CV]  learning_rate=1, n_estimators=500, score=(train=0.372, test=0.345), total=  26.8s\n",
      "[CV] learning_rate=1, n_estimators=500 ...............................\n",
      "[CV]  learning_rate=1, n_estimators=500, score=(train=0.367, test=0.351), total=  26.3s\n",
      "[CV] learning_rate=0.1, n_estimators=50 ..............................\n"
     ]
    },
    {
     "name": "stderr",
     "output_type": "stream",
     "text": [
      "C:\\Users\\Alex Willett\\Anaconda3\\lib\\site-packages\\sklearn\\metrics\\classification.py:1437: UndefinedMetricWarning: F-score is ill-defined and being set to 0.0 in labels with no predicted samples.\n",
      "  'precision', 'predicted', average, warn_for)\n",
      "C:\\Users\\Alex Willett\\Anaconda3\\lib\\site-packages\\sklearn\\metrics\\classification.py:1437: UndefinedMetricWarning: F-score is ill-defined and being set to 0.0 in labels with no predicted samples.\n",
      "  'precision', 'predicted', average, warn_for)\n"
     ]
    },
    {
     "name": "stdout",
     "output_type": "stream",
     "text": [
      "[CV]  learning_rate=0.1, n_estimators=50, score=(train=0.311, test=0.308), total=   2.7s\n",
      "[CV] learning_rate=0.1, n_estimators=50 ..............................\n"
     ]
    },
    {
     "name": "stderr",
     "output_type": "stream",
     "text": [
      "C:\\Users\\Alex Willett\\Anaconda3\\lib\\site-packages\\sklearn\\metrics\\classification.py:1437: UndefinedMetricWarning: F-score is ill-defined and being set to 0.0 in labels with no predicted samples.\n",
      "  'precision', 'predicted', average, warn_for)\n",
      "C:\\Users\\Alex Willett\\Anaconda3\\lib\\site-packages\\sklearn\\metrics\\classification.py:1437: UndefinedMetricWarning: F-score is ill-defined and being set to 0.0 in labels with no predicted samples.\n",
      "  'precision', 'predicted', average, warn_for)\n"
     ]
    },
    {
     "name": "stdout",
     "output_type": "stream",
     "text": [
      "[CV]  learning_rate=0.1, n_estimators=50, score=(train=0.306, test=0.307), total=   2.6s\n",
      "[CV] learning_rate=0.1, n_estimators=50 ..............................\n"
     ]
    },
    {
     "name": "stderr",
     "output_type": "stream",
     "text": [
      "C:\\Users\\Alex Willett\\Anaconda3\\lib\\site-packages\\sklearn\\metrics\\classification.py:1437: UndefinedMetricWarning: F-score is ill-defined and being set to 0.0 in labels with no predicted samples.\n",
      "  'precision', 'predicted', average, warn_for)\n",
      "C:\\Users\\Alex Willett\\Anaconda3\\lib\\site-packages\\sklearn\\metrics\\classification.py:1437: UndefinedMetricWarning: F-score is ill-defined and being set to 0.0 in labels with no predicted samples.\n",
      "  'precision', 'predicted', average, warn_for)\n"
     ]
    },
    {
     "name": "stdout",
     "output_type": "stream",
     "text": [
      "[CV]  learning_rate=0.1, n_estimators=50, score=(train=0.308, test=0.307), total=   2.7s\n",
      "[CV] learning_rate=0.1, n_estimators=100 .............................\n",
      "[CV]  learning_rate=0.1, n_estimators=100, score=(train=0.322, test=0.319), total=   5.6s\n",
      "[CV] learning_rate=0.1, n_estimators=100 .............................\n",
      "[CV]  learning_rate=0.1, n_estimators=100, score=(train=0.321, test=0.319), total=   5.2s\n",
      "[CV] learning_rate=0.1, n_estimators=100 .............................\n"
     ]
    },
    {
     "name": "stderr",
     "output_type": "stream",
     "text": [
      "C:\\Users\\Alex Willett\\Anaconda3\\lib\\site-packages\\sklearn\\metrics\\classification.py:1437: UndefinedMetricWarning: F-score is ill-defined and being set to 0.0 in labels with no predicted samples.\n",
      "  'precision', 'predicted', average, warn_for)\n",
      "C:\\Users\\Alex Willett\\Anaconda3\\lib\\site-packages\\sklearn\\metrics\\classification.py:1437: UndefinedMetricWarning: F-score is ill-defined and being set to 0.0 in labels with no predicted samples.\n",
      "  'precision', 'predicted', average, warn_for)\n"
     ]
    },
    {
     "name": "stdout",
     "output_type": "stream",
     "text": [
      "[CV]  learning_rate=0.1, n_estimators=100, score=(train=0.318, test=0.316), total=   5.2s\n",
      "[CV] learning_rate=0.1, n_estimators=200 .............................\n",
      "[CV]  learning_rate=0.1, n_estimators=200, score=(train=0.332, test=0.326), total=  11.1s\n",
      "[CV] learning_rate=0.1, n_estimators=200 .............................\n",
      "[CV]  learning_rate=0.1, n_estimators=200, score=(train=0.330, test=0.328), total=  10.6s\n",
      "[CV] learning_rate=0.1, n_estimators=200 .............................\n",
      "[CV]  learning_rate=0.1, n_estimators=200, score=(train=0.328, test=0.325), total=  11.1s\n",
      "[CV] learning_rate=0.1, n_estimators=500 .............................\n",
      "[CV]  learning_rate=0.1, n_estimators=500, score=(train=0.341, test=0.335), total=  28.0s\n",
      "[CV] learning_rate=0.1, n_estimators=500 .............................\n",
      "[CV]  learning_rate=0.1, n_estimators=500, score=(train=0.345, test=0.335), total=  29.9s\n",
      "[CV] learning_rate=0.1, n_estimators=500 .............................\n",
      "[CV]  learning_rate=0.1, n_estimators=500, score=(train=0.341, test=0.333), total=  26.6s\n",
      "[CV] learning_rate=0.01, n_estimators=50 .............................\n"
     ]
    },
    {
     "name": "stderr",
     "output_type": "stream",
     "text": [
      "C:\\Users\\Alex Willett\\Anaconda3\\lib\\site-packages\\sklearn\\metrics\\classification.py:1437: UndefinedMetricWarning: F-score is ill-defined and being set to 0.0 in labels with no predicted samples.\n",
      "  'precision', 'predicted', average, warn_for)\n",
      "C:\\Users\\Alex Willett\\Anaconda3\\lib\\site-packages\\sklearn\\metrics\\classification.py:1437: UndefinedMetricWarning: F-score is ill-defined and being set to 0.0 in labels with no predicted samples.\n",
      "  'precision', 'predicted', average, warn_for)\n"
     ]
    },
    {
     "name": "stdout",
     "output_type": "stream",
     "text": [
      "[CV]  learning_rate=0.01, n_estimators=50, score=(train=0.203, test=0.203), total=   2.7s\n",
      "[CV] learning_rate=0.01, n_estimators=50 .............................\n"
     ]
    },
    {
     "name": "stderr",
     "output_type": "stream",
     "text": [
      "C:\\Users\\Alex Willett\\Anaconda3\\lib\\site-packages\\sklearn\\metrics\\classification.py:1437: UndefinedMetricWarning: F-score is ill-defined and being set to 0.0 in labels with no predicted samples.\n",
      "  'precision', 'predicted', average, warn_for)\n",
      "C:\\Users\\Alex Willett\\Anaconda3\\lib\\site-packages\\sklearn\\metrics\\classification.py:1437: UndefinedMetricWarning: F-score is ill-defined and being set to 0.0 in labels with no predicted samples.\n",
      "  'precision', 'predicted', average, warn_for)\n"
     ]
    },
    {
     "name": "stdout",
     "output_type": "stream",
     "text": [
      "[CV]  learning_rate=0.01, n_estimators=50, score=(train=0.203, test=0.203), total=   2.6s\n",
      "[CV] learning_rate=0.01, n_estimators=50 .............................\n"
     ]
    },
    {
     "name": "stderr",
     "output_type": "stream",
     "text": [
      "C:\\Users\\Alex Willett\\Anaconda3\\lib\\site-packages\\sklearn\\metrics\\classification.py:1437: UndefinedMetricWarning: F-score is ill-defined and being set to 0.0 in labels with no predicted samples.\n",
      "  'precision', 'predicted', average, warn_for)\n",
      "C:\\Users\\Alex Willett\\Anaconda3\\lib\\site-packages\\sklearn\\metrics\\classification.py:1437: UndefinedMetricWarning: F-score is ill-defined and being set to 0.0 in labels with no predicted samples.\n",
      "  'precision', 'predicted', average, warn_for)\n"
     ]
    },
    {
     "name": "stdout",
     "output_type": "stream",
     "text": [
      "[CV]  learning_rate=0.01, n_estimators=50, score=(train=0.203, test=0.203), total=   2.6s\n",
      "[CV] learning_rate=0.01, n_estimators=100 ............................\n"
     ]
    },
    {
     "name": "stderr",
     "output_type": "stream",
     "text": [
      "C:\\Users\\Alex Willett\\Anaconda3\\lib\\site-packages\\sklearn\\metrics\\classification.py:1437: UndefinedMetricWarning: F-score is ill-defined and being set to 0.0 in labels with no predicted samples.\n",
      "  'precision', 'predicted', average, warn_for)\n",
      "C:\\Users\\Alex Willett\\Anaconda3\\lib\\site-packages\\sklearn\\metrics\\classification.py:1437: UndefinedMetricWarning: F-score is ill-defined and being set to 0.0 in labels with no predicted samples.\n",
      "  'precision', 'predicted', average, warn_for)\n"
     ]
    },
    {
     "name": "stdout",
     "output_type": "stream",
     "text": [
      "[CV]  learning_rate=0.01, n_estimators=100, score=(train=0.292, test=0.291), total=   5.4s\n",
      "[CV] learning_rate=0.01, n_estimators=100 ............................\n"
     ]
    },
    {
     "name": "stderr",
     "output_type": "stream",
     "text": [
      "C:\\Users\\Alex Willett\\Anaconda3\\lib\\site-packages\\sklearn\\metrics\\classification.py:1437: UndefinedMetricWarning: F-score is ill-defined and being set to 0.0 in labels with no predicted samples.\n",
      "  'precision', 'predicted', average, warn_for)\n",
      "C:\\Users\\Alex Willett\\Anaconda3\\lib\\site-packages\\sklearn\\metrics\\classification.py:1437: UndefinedMetricWarning: F-score is ill-defined and being set to 0.0 in labels with no predicted samples.\n",
      "  'precision', 'predicted', average, warn_for)\n"
     ]
    },
    {
     "name": "stdout",
     "output_type": "stream",
     "text": [
      "[CV]  learning_rate=0.01, n_estimators=100, score=(train=0.296, test=0.295), total=   5.2s\n",
      "[CV] learning_rate=0.01, n_estimators=100 ............................\n"
     ]
    },
    {
     "name": "stderr",
     "output_type": "stream",
     "text": [
      "C:\\Users\\Alex Willett\\Anaconda3\\lib\\site-packages\\sklearn\\metrics\\classification.py:1437: UndefinedMetricWarning: F-score is ill-defined and being set to 0.0 in labels with no predicted samples.\n",
      "  'precision', 'predicted', average, warn_for)\n",
      "C:\\Users\\Alex Willett\\Anaconda3\\lib\\site-packages\\sklearn\\metrics\\classification.py:1437: UndefinedMetricWarning: F-score is ill-defined and being set to 0.0 in labels with no predicted samples.\n",
      "  'precision', 'predicted', average, warn_for)\n"
     ]
    },
    {
     "name": "stdout",
     "output_type": "stream",
     "text": [
      "[CV]  learning_rate=0.01, n_estimators=100, score=(train=0.203, test=0.203), total=   5.3s\n",
      "[CV] learning_rate=0.01, n_estimators=200 ............................\n"
     ]
    },
    {
     "name": "stderr",
     "output_type": "stream",
     "text": [
      "C:\\Users\\Alex Willett\\Anaconda3\\lib\\site-packages\\sklearn\\metrics\\classification.py:1437: UndefinedMetricWarning: F-score is ill-defined and being set to 0.0 in labels with no predicted samples.\n",
      "  'precision', 'predicted', average, warn_for)\n",
      "C:\\Users\\Alex Willett\\Anaconda3\\lib\\site-packages\\sklearn\\metrics\\classification.py:1437: UndefinedMetricWarning: F-score is ill-defined and being set to 0.0 in labels with no predicted samples.\n",
      "  'precision', 'predicted', average, warn_for)\n"
     ]
    },
    {
     "name": "stdout",
     "output_type": "stream",
     "text": [
      "[CV]  learning_rate=0.01, n_estimators=200, score=(train=0.299, test=0.299), total=  10.7s\n",
      "[CV] learning_rate=0.01, n_estimators=200 ............................\n"
     ]
    },
    {
     "name": "stderr",
     "output_type": "stream",
     "text": [
      "C:\\Users\\Alex Willett\\Anaconda3\\lib\\site-packages\\sklearn\\metrics\\classification.py:1437: UndefinedMetricWarning: F-score is ill-defined and being set to 0.0 in labels with no predicted samples.\n",
      "  'precision', 'predicted', average, warn_for)\n",
      "C:\\Users\\Alex Willett\\Anaconda3\\lib\\site-packages\\sklearn\\metrics\\classification.py:1437: UndefinedMetricWarning: F-score is ill-defined and being set to 0.0 in labels with no predicted samples.\n",
      "  'precision', 'predicted', average, warn_for)\n"
     ]
    },
    {
     "name": "stdout",
     "output_type": "stream",
     "text": [
      "[CV]  learning_rate=0.01, n_estimators=200, score=(train=0.298, test=0.298), total=  10.6s\n",
      "[CV] learning_rate=0.01, n_estimators=200 ............................\n"
     ]
    },
    {
     "name": "stderr",
     "output_type": "stream",
     "text": [
      "C:\\Users\\Alex Willett\\Anaconda3\\lib\\site-packages\\sklearn\\metrics\\classification.py:1437: UndefinedMetricWarning: F-score is ill-defined and being set to 0.0 in labels with no predicted samples.\n",
      "  'precision', 'predicted', average, warn_for)\n",
      "C:\\Users\\Alex Willett\\Anaconda3\\lib\\site-packages\\sklearn\\metrics\\classification.py:1437: UndefinedMetricWarning: F-score is ill-defined and being set to 0.0 in labels with no predicted samples.\n",
      "  'precision', 'predicted', average, warn_for)\n"
     ]
    },
    {
     "name": "stdout",
     "output_type": "stream",
     "text": [
      "[CV]  learning_rate=0.01, n_estimators=200, score=(train=0.303, test=0.302), total=  10.5s\n",
      "[CV] learning_rate=0.01, n_estimators=500 ............................\n"
     ]
    },
    {
     "name": "stderr",
     "output_type": "stream",
     "text": [
      "C:\\Users\\Alex Willett\\Anaconda3\\lib\\site-packages\\sklearn\\metrics\\classification.py:1437: UndefinedMetricWarning: F-score is ill-defined and being set to 0.0 in labels with no predicted samples.\n",
      "  'precision', 'predicted', average, warn_for)\n",
      "C:\\Users\\Alex Willett\\Anaconda3\\lib\\site-packages\\sklearn\\metrics\\classification.py:1437: UndefinedMetricWarning: F-score is ill-defined and being set to 0.0 in labels with no predicted samples.\n",
      "  'precision', 'predicted', average, warn_for)\n"
     ]
    },
    {
     "name": "stdout",
     "output_type": "stream",
     "text": [
      "[CV]  learning_rate=0.01, n_estimators=500, score=(train=0.311, test=0.309), total=  26.3s\n",
      "[CV] learning_rate=0.01, n_estimators=500 ............................\n"
     ]
    },
    {
     "name": "stderr",
     "output_type": "stream",
     "text": [
      "C:\\Users\\Alex Willett\\Anaconda3\\lib\\site-packages\\sklearn\\metrics\\classification.py:1437: UndefinedMetricWarning: F-score is ill-defined and being set to 0.0 in labels with no predicted samples.\n",
      "  'precision', 'predicted', average, warn_for)\n",
      "C:\\Users\\Alex Willett\\Anaconda3\\lib\\site-packages\\sklearn\\metrics\\classification.py:1437: UndefinedMetricWarning: F-score is ill-defined and being set to 0.0 in labels with no predicted samples.\n",
      "  'precision', 'predicted', average, warn_for)\n"
     ]
    },
    {
     "name": "stdout",
     "output_type": "stream",
     "text": [
      "[CV]  learning_rate=0.01, n_estimators=500, score=(train=0.304, test=0.305), total=  26.9s\n",
      "[CV] learning_rate=0.01, n_estimators=500 ............................\n"
     ]
    },
    {
     "name": "stderr",
     "output_type": "stream",
     "text": [
      "C:\\Users\\Alex Willett\\Anaconda3\\lib\\site-packages\\sklearn\\metrics\\classification.py:1437: UndefinedMetricWarning: F-score is ill-defined and being set to 0.0 in labels with no predicted samples.\n",
      "  'precision', 'predicted', average, warn_for)\n",
      "C:\\Users\\Alex Willett\\Anaconda3\\lib\\site-packages\\sklearn\\metrics\\classification.py:1437: UndefinedMetricWarning: F-score is ill-defined and being set to 0.0 in labels with no predicted samples.\n",
      "  'precision', 'predicted', average, warn_for)\n",
      "[Parallel(n_jobs=1)]: Done  36 out of  36 | elapsed:  7.7min finished\n"
     ]
    },
    {
     "name": "stdout",
     "output_type": "stream",
     "text": [
      "[CV]  learning_rate=0.01, n_estimators=500, score=(train=0.308, test=0.308), total=  26.3s\n",
      "Mean Training Score: 0.3181154471973253\n",
      "Mean Testing Score 0.35297325047491784\n",
      "\n",
      "Best Parameter Found:\n",
      "              precision    recall  f1-score   support\n",
      "\n",
      "        Sell       0.34      0.05      0.09      2633\n",
      "         Buy       0.47      0.34      0.39      5075\n",
      "        Hold       0.47      0.74      0.57      6184\n",
      "\n",
      "    accuracy                           0.46     13892\n",
      "   macro avg       0.42      0.38      0.35     13892\n",
      "weighted avg       0.44      0.46      0.41     13892\n",
      "\n"
     ]
    },
    {
     "data": {
      "image/png": "[encoded data removed]",
      "text/plain": [
       "<Figure size 864x432 with 2 Axes>"
      ]
     },
     "metadata": {
      "needs_background": "light"
     },
     "output_type": "display_data"
    }
   ],
   "source": [
    "# Parameters to Tune (this would need to be modified for each different model)\n",
    "params = {'n_estimators': [50, 100, 200, 500],\n",
    "         'learning_rate': [1, .1, .01]}\n",
    "\n",
    "# Instantiating GridSearch with the parameters set above\n",
    "search = GridSearchCV(clf, params, cv=3, return_train_score=True, verbose=5, scoring='f1_macro')\n",
    "\n",
    "# Fitting the model to our dataset\n",
    "search.fit(X,y)\n",
    "\n",
    "# Printing out the evaluations for our model which is different than the classification reports\n",
    "print(\"Mean Training Score:\", np.mean(search.cv_results_['mean_train_score']))\n",
    "print(\"Mean Testing Score\", search.score(X,y))\n",
    "print(\"\\nBest Parameter Found:\")\n",
    "search.best_params_\n",
    "\n",
    "# Using the model with the best parameters and fitting it to the training sets to finally test it\n",
    "search_clf = search.best_estimator_\n",
    "\n",
    "search_clf.fit(X_train, y_train)\n",
    "\n",
    "# Classifier predictions from the tuned model\n",
    "s_pred = search_clf.predict(X_test)\n",
    "\n",
    "# Printing out results from the tuned model\n",
    "report = classification_report(y_test, s_pred, target_names=['Sell', 'Buy', 'Hold'])\n",
    "print(report)\n",
    "\n",
    "# The confusion matrix for the tuned model\n",
    "plot_confusion_matrix(y_test, s_pred, title=\"Confusion Matrix\")\n",
    "np.set_printoptions(precision=1)\n",
    "plt.show();"
   ]
  },
  {
   "cell_type": "markdown",
   "metadata": {},
   "source": [
    "Classifying the New Data"
   ]
  },
  {
   "cell_type": "code",
   "execution_count": 14,
   "metadata": {},
   "outputs": [
    {
     "data": {
      "text/plain": [
       "['xgboost.joblib']"
      ]
     },
     "execution_count": 14,
     "metadata": {},
     "output_type": "execute_result"
    }
   ],
   "source": [
    "# Importing the library\n",
    "from joblib import dump\n",
    "# Saving the classification model as a file named 'xgboost.joblib'\n",
    "dump(clf, 'xgboost.joblib')"
   ]
  },
  {
   "cell_type": "code",
   "execution_count": 12,
   "metadata": {},
   "outputs": [],
   "source": [
    "# Importing the necessary libraries and model\n",
    "import matplotlib.pyplot as plt\n",
    "from matplotlib import rcParams\n",
    "import _pickle as pickle\n",
    "import numpy as np\n",
    "import pandas as pd\n",
    "from joblib import load\n",
    "from sklearn.preprocessing import StandardScaler\n",
    "from xgboost import XGBClassifier"
   ]
  },
  {
   "cell_type": "code",
   "execution_count": 16,
   "metadata": {},
   "outputs": [],
   "source": [
    "# Loading Pretrained XGBoost Model we made for our numerous trials\n",
    "clf = load('xgboost.joblib')"
   ]
  },
  {
   "cell_type": "code",
   "execution_count": 20,
   "metadata": {},
   "outputs": [],
   "source": [
    "# Loading in the Data\n",
    "# Using the Stockpup dataset to find the latest QR\n",
    "with open('stock_pickle_full.pickle', 'rb') as fp:\n",
    "    stock_df = pickle.load(fp)\n",
    "    \n",
    "# Using the top 10 features to scale with latest QR\n",
    "with open(\"top10_df.pkl\", \"rb\") as fp:\n",
    "    top10_df = pickle.load(fp)  "
   ]
  },
  {
   "cell_type": "code",
   "execution_count": 21,
   "metadata": {},
   "outputs": [
    {
     "data": {
      "text/html": [
       "<div>\n",
       "<style scoped>\n",
       "    .dataframe tbody tr th:only-of-type {\n",
       "        vertical-align: middle;\n",
       "    }\n",
       "\n",
       "    .dataframe tbody tr th {\n",
       "        vertical-align: top;\n",
       "    }\n",
       "\n",
       "    .dataframe thead th {\n",
       "        text-align: right;\n",
       "    }\n",
       "</style>\n",
       "<table border=\"1\" class=\"dataframe\">\n",
       "  <thead>\n",
       "    <tr style=\"text-align: right;\">\n",
       "      <th></th>\n",
       "      <th>P/B ratio</th>\n",
       "      <th>Assets</th>\n",
       "      <th>Shares split adjusted</th>\n",
       "      <th>Shares</th>\n",
       "      <th>P/E ratio</th>\n",
       "      <th>Asset turnover</th>\n",
       "      <th>Current Assets</th>\n",
       "      <th>Cash at end of period</th>\n",
       "      <th>Liabilities</th>\n",
       "      <th>Revenue</th>\n",
       "      <th>Decision</th>\n",
       "    </tr>\n",
       "  </thead>\n",
       "  <tbody>\n",
       "    <tr>\n",
       "      <td>0</td>\n",
       "      <td>0.000000</td>\n",
       "      <td>3.011116</td>\n",
       "      <td>0.060170</td>\n",
       "      <td>0.060170</td>\n",
       "      <td>0.000000</td>\n",
       "      <td>0.000000</td>\n",
       "      <td>1.505420</td>\n",
       "      <td>-28.508772</td>\n",
       "      <td>2.212896</td>\n",
       "      <td>10.641140</td>\n",
       "      <td>0.0</td>\n",
       "    </tr>\n",
       "    <tr>\n",
       "      <td>1</td>\n",
       "      <td>-40.465919</td>\n",
       "      <td>6.911624</td>\n",
       "      <td>0.164196</td>\n",
       "      <td>0.164196</td>\n",
       "      <td>0.000000</td>\n",
       "      <td>0.000000</td>\n",
       "      <td>5.675302</td>\n",
       "      <td>-28.118609</td>\n",
       "      <td>9.182531</td>\n",
       "      <td>7.444668</td>\n",
       "      <td>0.0</td>\n",
       "    </tr>\n",
       "    <tr>\n",
       "      <td>2</td>\n",
       "      <td>-31.739130</td>\n",
       "      <td>7.640220</td>\n",
       "      <td>0.739888</td>\n",
       "      <td>0.739888</td>\n",
       "      <td>0.000000</td>\n",
       "      <td>0.000000</td>\n",
       "      <td>5.819611</td>\n",
       "      <td>41.678521</td>\n",
       "      <td>8.034188</td>\n",
       "      <td>26.292135</td>\n",
       "      <td>2.0</td>\n",
       "    </tr>\n",
       "    <tr>\n",
       "      <td>3</td>\n",
       "      <td>-2.335456</td>\n",
       "      <td>9.293769</td>\n",
       "      <td>0.088384</td>\n",
       "      <td>0.088384</td>\n",
       "      <td>0.000000</td>\n",
       "      <td>0.000000</td>\n",
       "      <td>-3.430592</td>\n",
       "      <td>-56.526104</td>\n",
       "      <td>16.044304</td>\n",
       "      <td>-15.747331</td>\n",
       "      <td>0.0</td>\n",
       "    </tr>\n",
       "    <tr>\n",
       "      <td>4</td>\n",
       "      <td>-28.260870</td>\n",
       "      <td>-1.390096</td>\n",
       "      <td>0.066338</td>\n",
       "      <td>0.066338</td>\n",
       "      <td>-25.917859</td>\n",
       "      <td>-6.474820</td>\n",
       "      <td>-8.478301</td>\n",
       "      <td>86.836028</td>\n",
       "      <td>-5.535860</td>\n",
       "      <td>-16.156283</td>\n",
       "      <td>2.0</td>\n",
       "    </tr>\n",
       "    <tr>\n",
       "      <td>...</td>\n",
       "      <td>...</td>\n",
       "      <td>...</td>\n",
       "      <td>...</td>\n",
       "      <td>...</td>\n",
       "      <td>...</td>\n",
       "      <td>...</td>\n",
       "      <td>...</td>\n",
       "      <td>...</td>\n",
       "      <td>...</td>\n",
       "      <td>...</td>\n",
       "      <td>...</td>\n",
       "    </tr>\n",
       "    <tr>\n",
       "      <td>55561</td>\n",
       "      <td>-6.218487</td>\n",
       "      <td>-7.558140</td>\n",
       "      <td>-0.417521</td>\n",
       "      <td>-0.417521</td>\n",
       "      <td>1.553672</td>\n",
       "      <td>1.587302</td>\n",
       "      <td>-13.833265</td>\n",
       "      <td>-21.049975</td>\n",
       "      <td>-6.452057</td>\n",
       "      <td>8.389013</td>\n",
       "      <td>1.0</td>\n",
       "    </tr>\n",
       "    <tr>\n",
       "      <td>55562</td>\n",
       "      <td>27.598566</td>\n",
       "      <td>1.211274</td>\n",
       "      <td>-0.286092</td>\n",
       "      <td>-0.286092</td>\n",
       "      <td>23.922114</td>\n",
       "      <td>-1.562500</td>\n",
       "      <td>1.185677</td>\n",
       "      <td>5.754476</td>\n",
       "      <td>-1.250000</td>\n",
       "      <td>-6.438356</td>\n",
       "      <td>1.0</td>\n",
       "    </tr>\n",
       "    <tr>\n",
       "      <td>55563</td>\n",
       "      <td>-3.885768</td>\n",
       "      <td>-1.001151</td>\n",
       "      <td>-0.421944</td>\n",
       "      <td>-0.421944</td>\n",
       "      <td>-6.240180</td>\n",
       "      <td>1.587302</td>\n",
       "      <td>-0.656199</td>\n",
       "      <td>-5.804111</td>\n",
       "      <td>-1.399851</td>\n",
       "      <td>3.587116</td>\n",
       "      <td>1.0</td>\n",
       "    </tr>\n",
       "    <tr>\n",
       "      <td>55564</td>\n",
       "      <td>5.358013</td>\n",
       "      <td>21.573870</td>\n",
       "      <td>-0.284943</td>\n",
       "      <td>-0.284943</td>\n",
       "      <td>-7.110366</td>\n",
       "      <td>-1.562500</td>\n",
       "      <td>-3.845247</td>\n",
       "      <td>-17.458280</td>\n",
       "      <td>25.977949</td>\n",
       "      <td>4.593640</td>\n",
       "      <td>2.0</td>\n",
       "    </tr>\n",
       "    <tr>\n",
       "      <td>55565</td>\n",
       "      <td>-8.044383</td>\n",
       "      <td>3.040444</td>\n",
       "      <td>-0.349457</td>\n",
       "      <td>-0.349457</td>\n",
       "      <td>-5.000000</td>\n",
       "      <td>-4.761905</td>\n",
       "      <td>7.924436</td>\n",
       "      <td>24.572317</td>\n",
       "      <td>3.009232</td>\n",
       "      <td>5.675676</td>\n",
       "      <td>1.0</td>\n",
       "    </tr>\n",
       "  </tbody>\n",
       "</table>\n",
       "<p>55566 rows × 11 columns</p>\n",
       "</div>"
      ],
      "text/plain": [
       "       P/B ratio     Assets  Shares split adjusted    Shares  P/E ratio  \\\n",
       "0       0.000000   3.011116               0.060170  0.060170   0.000000   \n",
       "1     -40.465919   6.911624               0.164196  0.164196   0.000000   \n",
       "2     -31.739130   7.640220               0.739888  0.739888   0.000000   \n",
       "3      -2.335456   9.293769               0.088384  0.088384   0.000000   \n",
       "4     -28.260870  -1.390096               0.066338  0.066338 -25.917859   \n",
       "...          ...        ...                    ...       ...        ...   \n",
       "55561  -6.218487  -7.558140              -0.417521 -0.417521   1.553672   \n",
       "55562  27.598566   1.211274              -0.286092 -0.286092  23.922114   \n",
       "55563  -3.885768  -1.001151              -0.421944 -0.421944  -6.240180   \n",
       "55564   5.358013  21.573870              -0.284943 -0.284943  -7.110366   \n",
       "55565  -8.044383   3.040444              -0.349457 -0.349457  -5.000000   \n",
       "\n",
       "       Asset turnover  Current Assets  Cash at end of period  Liabilities  \\\n",
       "0            0.000000        1.505420             -28.508772     2.212896   \n",
       "1            0.000000        5.675302             -28.118609     9.182531   \n",
       "2            0.000000        5.819611              41.678521     8.034188   \n",
       "3            0.000000       -3.430592             -56.526104    16.044304   \n",
       "4           -6.474820       -8.478301              86.836028    -5.535860   \n",
       "...               ...             ...                    ...          ...   \n",
       "55561        1.587302      -13.833265             -21.049975    -6.452057   \n",
       "55562       -1.562500        1.185677               5.754476    -1.250000   \n",
       "55563        1.587302       -0.656199              -5.804111    -1.399851   \n",
       "55564       -1.562500       -3.845247             -17.458280    25.977949   \n",
       "55565       -4.761905        7.924436              24.572317     3.009232   \n",
       "\n",
       "         Revenue  Decision  \n",
       "0      10.641140       0.0  \n",
       "1       7.444668       0.0  \n",
       "2      26.292135       2.0  \n",
       "3     -15.747331       0.0  \n",
       "4     -16.156283       2.0  \n",
       "...          ...       ...  \n",
       "55561   8.389013       1.0  \n",
       "55562  -6.438356       1.0  \n",
       "55563   3.587116       1.0  \n",
       "55564   4.593640       2.0  \n",
       "55565   5.675676       1.0  \n",
       "\n",
       "[55566 rows x 11 columns]"
      ]
     },
     "execution_count": 21,
     "metadata": {},
     "output_type": "execute_result"
    }
   ],
   "source": [
    "top10_df"
   ]
  },
  {
   "cell_type": "code",
   "execution_count": 25,
   "metadata": {},
   "outputs": [],
   "source": [
    "def format_qr(df, df2):\n",
    "    \"\"\"\n",
    "    Formats the DF from the Stockpup dataset so that the values and columns line up with training and testing data\n",
    "    Uses the second DF of our data to find the appropriate feature columns to use and will be appended to\n",
    "    Scales the DF with the new data\n",
    "    Returns the QR with the new scaled data\n",
    "    \"\"\"\n",
    "    # Dropping the class column as it is not needed\n",
    "    df2 = df2.drop(\"Decision\", axis=1)\n",
    "    \n",
    "    # Setting the Datetime index\n",
    "    df['Quarter end'] = pd.to_datetime(df['Quarter end'])\n",
    "    df = df.set_index(\"Quarter end\")\n",
    "    \n",
    "    # Sort the DF based on date\n",
    "    df = df.sort_index(ascending=False)\n",
    "    \n",
    "    # Finding the latest values\n",
    "    df = df.head(2)\n",
    "    \n",
    "    # Replacing 'None' with 0\n",
    "    df = df.replace(\"None\", 0)\n",
    "    \n",
    "    # Converting all values to numeric\n",
    "    df = df.apply(pd.to_numeric)\n",
    "    \n",
    "    # Finding the percent change\n",
    "    df = df.pct_change(-1).apply(lambda x: x*100)\n",
    "    \n",
    "    # Using only the latest QR\n",
    "    df = df.head(1)\n",
    "    \n",
    "    # Replacing values with 0\n",
    "    df = df.replace([np.inf, -np.inf], [1,-1]).fillna(0)\n",
    "    \n",
    "    # Using only the columns with the data that we have (excluding the class labels)\n",
    "    df = df[df2.columns]\n",
    "    \n",
    "    # Appending the new data to rest of the data for scaling purposes\n",
    "    df = df2.append(df)\n",
    "    \n",
    "    # Scaling the data\n",
    "    scaler = StandardScaler()\n",
    "    \n",
    "    df = pd.DataFrame(scaler.fit_transform(df), index=df.index, columns=df.columns)\n",
    "    \n",
    "    # Finding the latest scaled QR\n",
    "    df = df.tail(1)\n",
    "    \n",
    "    # Returning the latest scaled QR with the appropriate features\n",
    "    return df\n",
    "\n",
    "def prediction(pred):\n",
    "    \"\"\"\n",
    "    Returns the class label for the prediction\n",
    "    \"\"\"\n",
    "    print('The Classifier has determined this stock to be a...')\n",
    "    if pred == 1.0:\n",
    "        print('BUY')\n",
    "    elif pred == 0.0:\n",
    "        print('SELL')\n",
    "    else:\n",
    "        print('HOLD')\n",
    "        \n",
    "    \n",
    "def pie_stock(pred, name):\n",
    "    \"\"\"\n",
    "    Creates a pie chart of the stock class predictions\n",
    "    \"\"\"\n",
    "    rcParams['font.size'] = 30.0\n",
    "    plt.style.use('bmh')\n",
    "    plt.figure(figsize=(10,10))\n",
    "    plt.pie(pred[0], \n",
    "            labels=['SELL', 'BUY','HOLD'], \n",
    "            shadow=True,\n",
    "            explode=(.05,.05,.05),\n",
    "            autopct='%1.1f%%')\n",
    "    plt.title(name)\n",
    "    plt.axis('equal')\n",
    "    plt.tight_layout()\n",
    "    plt.show()"
   ]
  },
  {
   "cell_type": "code",
   "execution_count": 26,
   "metadata": {},
   "outputs": [
    {
     "name": "stdout",
     "output_type": "stream",
     "text": [
      "The Classifier has determined this stock to be a...\n",
      "HOLD\n"
     ]
    },
    {
     "data": {
      "image/png": "[encoded data removed]",
      "text/plain": [
       "<Figure size 720x720 with 1 Axes>"
      ]
     },
     "metadata": {},
     "output_type": "display_data"
    }
   ],
   "source": [
    "# Viewing the DF with the latest scaled QR\n",
    "qr_df = format_qr(stock_df['AMD'], top10_df)\n",
    "qr_df\n",
    "\n",
    "# Predicting the class for our latest QR\n",
    "class_label = clf.predict(qr_df)[0]\n",
    "prediction(class_label)\n",
    "\n",
    "# Visualizing the Prediction probabilities for our latest QR\n",
    "pie_stock(clf.predict_proba(qr_df), \"AMD\")"
   ]
  },
  {
   "cell_type": "code",
   "execution_count": null,
   "metadata": {},
   "outputs": [],
   "source": []
  }
 ],
 "metadata": {
  "kernelspec": {
   "display_name": "Python 3",
   "language": "python",
   "name": "python3"
  },
  "language_info": {
   "codemirror_mode": {
    "name": "ipython",
    "version": 3
   },
   "file_extension": ".py",
   "mimetype": "text/x-python",
   "name": "python",
   "nbconvert_exporter": "python",
   "pygments_lexer": "ipython3",
   "version": "3.7.6"
  }
 },
 "nbformat": 4,
 "nbformat_minor": 4
}
